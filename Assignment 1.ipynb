{
 "cells": [
  {
   "metadata": {},
   "cell_type": "markdown",
   "source": "importing Required Libraries",
   "id": "93cba59c83973154"
  },
  {
   "metadata": {},
   "cell_type": "code",
   "outputs": [],
   "execution_count": 109,
   "source": [
    "import pandas as pd\n",
    "from bs4 import BeautifulSoup\n",
    "import requests\n"
   ],
   "id": "initial_id"
  },
  {
   "metadata": {},
   "cell_type": "markdown",
   "source": [
    "Defining header for not to identify as Bot for a website\n",
    "\n",
    "defining link of the page to scrap"
   ],
   "id": "fbe01ecee36abac0"
  },
  {
   "metadata": {
    "ExecuteTime": {
     "end_time": "2024-07-05T07:43:23.592533Z",
     "start_time": "2024-07-05T07:43:23.301662Z"
    }
   },
   "cell_type": "code",
   "source": [
    "\n",
    "headers = {\n",
    "    'User-Agent': 'Mozilla/5.0 (Macintosh; Intel Mac OS X 10.15; rv:109.0) Gecko/20100101 Firefox/109.0'\n",
    "}\n",
    "response = requests.get(\n",
    "    \"https://www.mfg.com/manufacturer-directory/?manufacturing_location=United+States&ep_filter_manufacturing_location=united-states&capability=CNC%20Machining&ep_filter_capability=cnc-machining&search=\",\n",
    "    headers=headers)\n"
   ],
   "id": "60f5821d55970cbf",
   "outputs": [],
   "execution_count": 110
  },
  {
   "metadata": {},
   "cell_type": "markdown",
   "source": "Defining Beautiful Soup for scraping",
   "id": "822c2bc8646f0952"
  },
  {
   "metadata": {
    "ExecuteTime": {
     "end_time": "2024-07-05T07:43:28.316084Z",
     "start_time": "2024-07-05T07:43:27.665285Z"
    }
   },
   "cell_type": "code",
   "source": [
    "soup = BeautifulSoup(response.content, 'lxml')\n",
    "print(soup.prettify())"
   ],
   "id": "752ec5ee896229a7",
   "outputs": [
    {
     "name": "stderr",
     "output_type": "stream",
     "text": [
      "IOPub data rate exceeded.\n",
      "The Jupyter server will temporarily stop sending output\n",
      "to the client in order to avoid crashing it.\n",
      "To change this limit, set the config variable\n",
      "`--ServerApp.iopub_data_rate_limit`.\n",
      "\n",
      "Current values:\n",
      "ServerApp.iopub_data_rate_limit=1000000.0 (bytes/sec)\n",
      "ServerApp.rate_limit_window=3.0 (secs)\n",
      "\n"
     ]
    }
   ],
   "execution_count": 111
  },
  {
   "metadata": {},
   "cell_type": "markdown",
   "source": "Collecting all the links from the search page to get page for manufacture(getting manufacture page to ger desired information",
   "id": "1db70ec48587e855"
  },
  {
   "metadata": {
    "ExecuteTime": {
     "end_time": "2024-07-05T07:43:29.301289Z",
     "start_time": "2024-07-05T07:43:29.232458Z"
    }
   },
   "cell_type": "code",
   "source": [
    "name = soup.find_all(class_='align-text-bottom', attrs={'href'})\n",
    "link = []\n",
    "for i in name:\n",
    "    link.append(i['href'])\n",
    "link"
   ],
   "id": "ff455af2b9686ff2",
   "outputs": [
    {
     "data": {
      "text/plain": [
       "['/manufacturer/a1-precision-inc-vancouver-washington-833060',\n",
       " '/manufacturer/spargo-machine-products-terryville-connecticut-795651',\n",
       " '/manufacturer/keystone-machine-inc-littlestown-pennsylvania-339275',\n",
       " '/manufacturer/d-d-precision-machine-co-inc-middleboro-massachusetts-337958',\n",
       " '/manufacturer/hilltop-technology-laboratory-irvine-california-1773677',\n",
       " '/manufacturer/tr-manufacturing-garrett-indiana-337975',\n",
       " '/manufacturer/wh-bagshaw-co-inc-new-hampshire-338293',\n",
       " '/manufacturer/northrop-sales-inc-ponte-vedra-florida-337512',\n",
       " '/manufacturer/mckenzie-cnc-inc-estacada-oregon-627550',\n",
       " '/manufacturer/4th-axis-machine-and-design-inc-minnesota-703692',\n",
       " '/manufacturer/west-michigan-tube-wire-forming-muskegon-michigan-363671',\n",
       " '/manufacturer/machinepro-technologies-celina-ohio-338388',\n",
       " '/manufacturer/mackenzie-machine-pembroke-massachusetts-337448',\n",
       " '/manufacturer/sk-international-michigan-1799294',\n",
       " '/manufacturer/zeltwanger-cnc-south-carolina-1793007',\n",
       " '/manufacturer/t-t-machine-inc-painesville-ohio-338435',\n",
       " '/manufacturer/xcelicut-precision-machining-pennsylvania-1777931',\n",
       " '/manufacturer/marshall-metal-products-inc-michigan-670105',\n",
       " '/manufacturer/patriot-manufacturing-plymouth-michigan-1863456',\n",
       " '/manufacturer/qingdao-jinghong-precision-co-ltd-usa-shandong-1843864',\n",
       " '/manufacturer/ha-industries-michigan-1844201',\n",
       " '/manufacturer/next-level-mfg-jenison-michigan-1543375',\n",
       " '/manufacturer/starland-metals-gibbon-minnesota-1337617',\n",
       " '/manufacturer/kooima-company-rock-valley-iowa-1038400',\n",
       " '/manufacturer/hicks-lake-grinding-evart-michigan-692319']"
      ]
     },
     "execution_count": 112,
     "metadata": {},
     "output_type": "execute_result"
    }
   ],
   "execution_count": 112
  },
  {
   "metadata": {},
   "cell_type": "markdown",
   "source": "Defining required variables to store the information such as name of the manufacture location material capabiltiy of the machine",
   "id": "fa0f2968d1c2e203"
  },
  {
   "metadata": {
    "ExecuteTime": {
     "end_time": "2024-07-05T07:43:30.915152Z",
     "start_time": "2024-07-05T07:43:30.909539Z"
    }
   },
   "cell_type": "code",
   "source": [
    "names = []\n",
    "locations = []\n",
    "caps = []\n",
    "materials = []"
   ],
   "id": "e48de3b09053e9e",
   "outputs": [],
   "execution_count": 113
  },
  {
   "metadata": {},
   "cell_type": "markdown",
   "source": "define All common material used in CNC Machine as in the web pages materials are untagged so its difficult to catch them.by using this list we can find materials by matching them in the list",
   "id": "41e404401c617e3d"
  },
  {
   "metadata": {
    "ExecuteTime": {
     "end_time": "2024-07-05T07:43:31.770984Z",
     "start_time": "2024-07-05T07:43:31.767358Z"
    }
   },
   "cell_type": "code",
   "source": [
    "material_list  =  pd.Series([\n",
    "    \"Aluminum\",\n",
    "    \"Steel (Carbon and Alloy)\",\n",
    "    \"Stainless Steel\",\n",
    "    \"Brass\",\n",
    "    \"Copper\",\n",
    "    \"ABS (Acrylonitrile Butadiene Styrene)\",\n",
    "    \"Nylon (Polyamide)\",\n",
    "    \"Acrylic (PMMA)\",\n",
    "    \"Polyethylene (PE)\",\n",
    "    \"Polypropylene (PP)\",\n",
    "    \"Polycarbonate (PC)\",\n",
    "    \"Carbon Fiber\",\n",
    "    \"Fiberglass\",\n",
    "    \"Kevlar\",\n",
    "    \"Wood\",\n",
    "    \"Ceramics\",\n",
    "    \"Titanium\"\n",
    "])"
   ],
   "id": "3c2aef801949e5f8",
   "outputs": [],
   "execution_count": 114
  },
  {
   "metadata": {},
   "cell_type": "markdown",
   "source": "iteratively looping through page to collect information/data. for collecting material used we are using above list if any text present in the page with name in list it will be stored into the variables.",
   "id": "1dd61539895793cb"
  },
  {
   "metadata": {
    "ExecuteTime": {
     "end_time": "2024-07-05T07:43:41.636154Z",
     "start_time": "2024-07-05T07:43:32.768863Z"
    }
   },
   "cell_type": "code",
   "source": [
    "for i in range(len(link)):\n",
    "    page = requests.get(f\"https://www.mfg.com{link[i]}\",headers=headers)\n",
    "    soup1 = BeautifulSoup(page.content, 'lxml')\n",
    "    soup1.prettify()\n",
    "    name = soup1.find_all(class_='mb-0')[0].text\n",
    "    names.append(name)\n",
    "    location = soup1.find_all(class_='text-capitalize')[0].text\n",
    "    locations.append(location)\n",
    "    cabs = soup1.find_all(class_='badge-pill bg-secondary d-inline-block flat-right mr-1 my-1 nowrap px-3 py-1 text-white badgeborder')\n",
    "    hold_cabs = []\n",
    "    for i in cabs:\n",
    "        hold_cabs.append(i.text)\n",
    "    cabs1 = soup1.find_all(class_='class=\"badge-pill bg-secondary-20 d-inline-block mr-1 my-1 nowrap px-3 py-1 text-muted badgebordermuted\"')\n",
    "    for i in cabs1:\n",
    "        hold_cabs.append(i.text)\n",
    "    caps.append(\", \".join(hold_cabs))\n",
    "    material = soup1.find_all(class_='col-md-12 col-lg-8 hover-glow manufacturer order-1 order-lg-0 p-4')\n",
    "    material = str(material[0].text)\n",
    "    hold = []\n",
    "    for i in material_list:\n",
    "        if i in material:\n",
    "            hold.append(i)\n",
    "    materials.append(\", \".join(hold))\n",
    "    "
   ],
   "id": "b3c2425cfa195119",
   "outputs": [],
   "execution_count": 115
  },
  {
   "metadata": {
    "ExecuteTime": {
     "end_time": "2024-07-05T07:43:51.649022Z",
     "start_time": "2024-07-05T07:43:51.642525Z"
    }
   },
   "cell_type": "code",
   "source": "len(names)",
   "id": "eac4844f3b2b33bb",
   "outputs": [
    {
     "data": {
      "text/plain": [
       "25"
      ]
     },
     "execution_count": 116,
     "metadata": {},
     "output_type": "execute_result"
    }
   ],
   "execution_count": 116
  },
  {
   "metadata": {
    "ExecuteTime": {
     "end_time": "2024-07-05T07:43:52.447878Z",
     "start_time": "2024-07-05T07:43:52.444304Z"
    }
   },
   "cell_type": "code",
   "source": "len(locations)",
   "id": "d62031d0aaa850ae",
   "outputs": [
    {
     "data": {
      "text/plain": [
       "25"
      ]
     },
     "execution_count": 117,
     "metadata": {},
     "output_type": "execute_result"
    }
   ],
   "execution_count": 117
  },
  {
   "metadata": {
    "ExecuteTime": {
     "end_time": "2024-07-05T07:43:53.049470Z",
     "start_time": "2024-07-05T07:43:53.045693Z"
    }
   },
   "cell_type": "code",
   "source": "len(caps)",
   "id": "232645efd01dd897",
   "outputs": [
    {
     "data": {
      "text/plain": [
       "25"
      ]
     },
     "execution_count": 118,
     "metadata": {},
     "output_type": "execute_result"
    }
   ],
   "execution_count": 118
  },
  {
   "metadata": {
    "ExecuteTime": {
     "end_time": "2024-07-05T07:43:53.746982Z",
     "start_time": "2024-07-05T07:43:53.743400Z"
    }
   },
   "cell_type": "code",
   "source": "len(materials)",
   "id": "bd312266d04ac743",
   "outputs": [
    {
     "data": {
      "text/plain": [
       "25"
      ]
     },
     "execution_count": 119,
     "metadata": {},
     "output_type": "execute_result"
    }
   ],
   "execution_count": 119
  },
  {
   "metadata": {
    "ExecuteTime": {
     "end_time": "2024-07-05T07:43:54.497472Z",
     "start_time": "2024-07-05T07:43:54.492312Z"
    }
   },
   "cell_type": "code",
   "source": "names",
   "id": "c7a1c68bca0e551d",
   "outputs": [
    {
     "data": {
      "text/plain": [
       "['A-1 Precision, Inc.\\xa0',\n",
       " 'Spargo Machine Products\\xa0',\n",
       " 'Keystone Machine, Inc.\\xa0',\n",
       " 'D & D Precision Machine Co., Inc.\\xa0',\n",
       " 'Hilltop Technology Laboratory \\xa0',\n",
       " 'TR Manufacturing\\xa0',\n",
       " 'WH Bagshaw Co Inc\\xa0',\n",
       " 'NORTHROP SALES, INC\\xa0',\n",
       " 'McKenzie CNC, Inc.\\xa0',\n",
       " '4th Axis Machine and Design, Inc.\\xa0',\n",
       " 'West Michigan Tube & Wire Forming\\xa0',\n",
       " 'Machine-Pro Technologies\\xa0',\n",
       " 'MACKENZIE MACHINE\\xa0',\n",
       " 'SK International\\xa0',\n",
       " 'ZELTWANGER CNC \\xa0',\n",
       " 'T & T  Machine Inc.\\xa0',\n",
       " '\\xa0',\n",
       " 'Marshall Metal Products Inc\\xa0',\n",
       " 'Patriot Manufacturing\\xa0',\n",
       " 'Qingdao Jinghong Precision Co., Ltd. (USA)\\xa0',\n",
       " 'HA Industries\\xa0',\n",
       " 'Next Level Mfg\\xa0',\n",
       " 'Starland Metals\\xa0',\n",
       " 'Kooima Company\\xa0',\n",
       " \"Hick's Lake Grinding\\xa0\"]"
      ]
     },
     "execution_count": 120,
     "metadata": {},
     "output_type": "execute_result"
    }
   ],
   "execution_count": 120
  },
  {
   "metadata": {
    "ExecuteTime": {
     "end_time": "2024-07-05T07:43:55.417040Z",
     "start_time": "2024-07-05T07:43:55.414327Z"
    }
   },
   "cell_type": "code",
   "source": "materials",
   "id": "87d47de866fe42d3",
   "outputs": [
    {
     "data": {
      "text/plain": [
       "['Aluminum, Stainless Steel, Brass',\n",
       " 'Aluminum, Stainless Steel',\n",
       " 'Aluminum, Stainless Steel, Brass',\n",
       " '',\n",
       " 'Aluminum',\n",
       " 'Aluminum, Stainless Steel, Brass, Copper, Titanium',\n",
       " 'Aluminum, Stainless Steel',\n",
       " 'Aluminum, Stainless Steel, Brass',\n",
       " 'Aluminum, Stainless Steel',\n",
       " 'Aluminum',\n",
       " 'Aluminum, Stainless Steel',\n",
       " 'Aluminum, Stainless Steel, Brass, Wood',\n",
       " 'Aluminum, Stainless Steel, Brass, Titanium',\n",
       " 'Aluminum, Stainless Steel, Brass',\n",
       " 'Aluminum, Stainless Steel, Brass, Copper, Titanium',\n",
       " 'Aluminum, Stainless Steel, Brass',\n",
       " '',\n",
       " 'Aluminum, Stainless Steel',\n",
       " 'Aluminum, Stainless Steel, Brass',\n",
       " 'Aluminum, Stainless Steel, Brass, Copper, Titanium',\n",
       " 'Aluminum, Stainless Steel',\n",
       " 'Aluminum, Stainless Steel',\n",
       " 'Aluminum, Stainless Steel',\n",
       " 'Aluminum, Stainless Steel',\n",
       " 'Aluminum, Stainless Steel, Wood']"
      ]
     },
     "execution_count": 121,
     "metadata": {},
     "output_type": "execute_result"
    }
   ],
   "execution_count": 121
  },
  {
   "metadata": {
    "ExecuteTime": {
     "end_time": "2024-07-05T07:49:39.278776Z",
     "start_time": "2024-07-05T07:49:39.275069Z"
    }
   },
   "cell_type": "code",
   "source": "names",
   "id": "aa8c6e4e00db217e",
   "outputs": [
    {
     "data": {
      "text/plain": [
       "['A-1 Precision, Inc.\\xa0',\n",
       " 'Spargo Machine Products\\xa0',\n",
       " 'Keystone Machine, Inc.\\xa0',\n",
       " 'D & D Precision Machine Co., Inc.\\xa0',\n",
       " 'Hilltop Technology Laboratory \\xa0',\n",
       " 'TR Manufacturing\\xa0',\n",
       " 'WH Bagshaw Co Inc\\xa0',\n",
       " 'NORTHROP SALES, INC\\xa0',\n",
       " 'McKenzie CNC, Inc.\\xa0',\n",
       " '4th Axis Machine and Design, Inc.\\xa0',\n",
       " 'West Michigan Tube & Wire Forming\\xa0',\n",
       " 'Machine-Pro Technologies\\xa0',\n",
       " 'MACKENZIE MACHINE\\xa0',\n",
       " 'SK International\\xa0',\n",
       " 'ZELTWANGER CNC \\xa0',\n",
       " 'T & T  Machine Inc.\\xa0',\n",
       " '\\xa0',\n",
       " 'Marshall Metal Products Inc\\xa0',\n",
       " 'Patriot Manufacturing\\xa0',\n",
       " 'Qingdao Jinghong Precision Co., Ltd. (USA)\\xa0',\n",
       " 'HA Industries\\xa0',\n",
       " 'Next Level Mfg\\xa0',\n",
       " 'Starland Metals\\xa0',\n",
       " 'Kooima Company\\xa0',\n",
       " \"Hick's Lake Grinding\\xa0\"]"
      ]
     },
     "execution_count": 128,
     "metadata": {},
     "output_type": "execute_result"
    }
   ],
   "execution_count": 128
  },
  {
   "metadata": {},
   "cell_type": "markdown",
   "source": "storing data into the dictionary to make it dataframe",
   "id": "dacac4c732f325c1"
  },
  {
   "metadata": {
    "ExecuteTime": {
     "end_time": "2024-07-06T05:12:04.370002Z",
     "start_time": "2024-07-06T05:12:04.365890Z"
    }
   },
   "cell_type": "code",
   "source": [
    "data = {\n",
    "    \"Manufactures_name\":names,\n",
    "    'location':locations,\n",
    "    'Capibality':caps,\n",
    "    'Materials':materials\n",
    "}"
   ],
   "id": "300f594ea11b4e4b",
   "outputs": [],
   "execution_count": 342
  },
  {
   "metadata": {},
   "cell_type": "markdown",
   "source": "",
   "id": "688e13c818e131b6"
  },
  {
   "metadata": {},
   "cell_type": "markdown",
   "source": "Converting dictionary to dataframe using pd.DataFrame function",
   "id": "fd77f076353097"
  },
  {
   "metadata": {
    "ExecuteTime": {
     "end_time": "2024-07-06T05:12:04.871403Z",
     "start_time": "2024-07-06T05:12:04.869021Z"
    }
   },
   "cell_type": "code",
   "source": "df = pd.DataFrame(data)",
   "id": "2e2b590d5e653dea",
   "outputs": [],
   "execution_count": 343
  },
  {
   "metadata": {
    "ExecuteTime": {
     "end_time": "2024-07-06T05:12:05.647692Z",
     "start_time": "2024-07-06T05:12:05.641012Z"
    }
   },
   "cell_type": "code",
   "source": "df",
   "id": "e38856448e05a494",
   "outputs": [
    {
     "data": {
      "text/plain": [
       "                              Manufactures_name  \\\n",
       "0                          A-1 Precision, Inc.    \n",
       "1                      Spargo Machine Products    \n",
       "2                       Keystone Machine, Inc.    \n",
       "3            D & D Precision Machine Co., Inc.    \n",
       "4               Hilltop Technology Laboratory     \n",
       "5                             TR Manufacturing    \n",
       "6                            WH Bagshaw Co Inc    \n",
       "7                          NORTHROP SALES, INC    \n",
       "8                           McKenzie CNC, Inc.    \n",
       "9            4th Axis Machine and Design, Inc.    \n",
       "10           West Michigan Tube & Wire Forming    \n",
       "11                    Machine-Pro Technologies    \n",
       "12                           MACKENZIE MACHINE    \n",
       "13                            SK International    \n",
       "14                             ZELTWANGER CNC     \n",
       "15                         T & T  Machine Inc.    \n",
       "16                                                \n",
       "17                 Marshall Metal Products Inc    \n",
       "18                       Patriot Manufacturing    \n",
       "19  Qingdao Jinghong Precision Co., Ltd. (USA)    \n",
       "20                               HA Industries    \n",
       "21                              Next Level Mfg    \n",
       "22                             Starland Metals    \n",
       "23                              Kooima Company    \n",
       "24                        Hick's Lake Grinding    \n",
       "\n",
       "                                                                            location  \\\n",
       "0                    8014 NE 19th Court, Vancouver, Washington, 98665, United States   \n",
       "1                        6 Gear Drive, Terryville, Connecticut, 06786, United States   \n",
       "2                 115 Newark Street, Littlestown, Pennsylvania, 17340, United States   \n",
       "3               395 Plymouth Street, Middleboro, Massachusetts, 02346, United States   \n",
       "4                                51 Parker, Irvine, California, 92618, United States   \n",
       "5                           1106 S. Cowen St, Garrett, Indiana, 46738, United States   \n",
       "6                                1 Pine St. EXT, New Hampshire, 03061, United States   \n",
       "7                          P.O. Box 2907, Ponte Vedra, Florida, 32004, United States   \n",
       "8                          2254 NW Campus DR, Estacada, Oregon, 97023, United States   \n",
       "9                               6575 Labeaux Ave NE, Minnesota, 55301, United States   \n",
       "10           2724 9th Street, P O Box 4589, Muskegon, Michigan, 49444, United States   \n",
       "11                       1321 West Market Street, Celina, Ohio, 45822, United States   \n",
       "12    171 Mattakeesett Street, Unit 2, Pembroke, Massachusetts, 02359, United States   \n",
       "13                                  46918 Liberty Dr, Michigan, 48393, United States   \n",
       "14                          4947 Fargo Street , South Carolina, 29418, United States   \n",
       "15                       892 Callendar Blvd, Painesville, Ohio, 44077, United States   \n",
       "16                                                                                     \n",
       "17                                13219 15 MILE ROAD, Michigan, 49068, United States   \n",
       "18                     45345 Five Mile Rd., Plymouth, Michigan, 48170, United States   \n",
       "19  Donghuangbu Xiazhuang, Chengyang District, Qingdao, 山东 (Shandong), 266107, China   \n",
       "20                                  5510 Gatewood Dr, Michigan, 48310, United States   \n",
       "21                         6778 18th Avenue, Jenison, Michigan, 49428, United States   \n",
       "22                          59917 236th St., Gibbon, Minnesota, 55335, United States   \n",
       "23                2638 310th St, PO Box 156, Rock Valley, Iowa, 51247, United States   \n",
       "24                          14883 90th Avenue, Evart, Michigan, 49631, United States   \n",
       "\n",
       "                                          Capibality  \\\n",
       "0                                          Machining   \n",
       "1                                          Machining   \n",
       "2                                          Machining   \n",
       "3                                          Machining   \n",
       "4                                          Machining   \n",
       "5                3D Printing, Fabrication, Machining   \n",
       "6                                          Machining   \n",
       "7                Fabrication, Machining, Sheet Metal   \n",
       "8                                          Machining   \n",
       "9                                          Machining   \n",
       "10               Fabrication, Machining, Sheet Metal   \n",
       "11  3D Printing, Fabrication, Machining, Sheet Metal   \n",
       "12               Fabrication, Machining, Sheet Metal   \n",
       "13  3D Printing, Fabrication, Machining, Sheet Metal   \n",
       "14                                         Machining   \n",
       "15                                         Machining   \n",
       "16                                                     \n",
       "17               Fabrication, Machining, Sheet Metal   \n",
       "18                            Machining, Sheet Metal   \n",
       "19                                         Machining   \n",
       "20                            Fabrication, Machining   \n",
       "21                                         Machining   \n",
       "22               Fabrication, Machining, Sheet Metal   \n",
       "23               Fabrication, Machining, Sheet Metal   \n",
       "24               Fabrication, Machining, Sheet Metal   \n",
       "\n",
       "                                             Materials  \n",
       "0                     Aluminum, Stainless Steel, Brass  \n",
       "1                            Aluminum, Stainless Steel  \n",
       "2                     Aluminum, Stainless Steel, Brass  \n",
       "3                                                       \n",
       "4                                             Aluminum  \n",
       "5   Aluminum, Stainless Steel, Brass, Copper, Titanium  \n",
       "6                            Aluminum, Stainless Steel  \n",
       "7                     Aluminum, Stainless Steel, Brass  \n",
       "8                            Aluminum, Stainless Steel  \n",
       "9                                             Aluminum  \n",
       "10                           Aluminum, Stainless Steel  \n",
       "11              Aluminum, Stainless Steel, Brass, Wood  \n",
       "12          Aluminum, Stainless Steel, Brass, Titanium  \n",
       "13                    Aluminum, Stainless Steel, Brass  \n",
       "14  Aluminum, Stainless Steel, Brass, Copper, Titanium  \n",
       "15                    Aluminum, Stainless Steel, Brass  \n",
       "16                                                      \n",
       "17                           Aluminum, Stainless Steel  \n",
       "18                    Aluminum, Stainless Steel, Brass  \n",
       "19  Aluminum, Stainless Steel, Brass, Copper, Titanium  \n",
       "20                           Aluminum, Stainless Steel  \n",
       "21                           Aluminum, Stainless Steel  \n",
       "22                           Aluminum, Stainless Steel  \n",
       "23                           Aluminum, Stainless Steel  \n",
       "24                     Aluminum, Stainless Steel, Wood  "
      ],
      "text/html": [
       "<div>\n",
       "<style scoped>\n",
       "    .dataframe tbody tr th:only-of-type {\n",
       "        vertical-align: middle;\n",
       "    }\n",
       "\n",
       "    .dataframe tbody tr th {\n",
       "        vertical-align: top;\n",
       "    }\n",
       "\n",
       "    .dataframe thead th {\n",
       "        text-align: right;\n",
       "    }\n",
       "</style>\n",
       "<table border=\"1\" class=\"dataframe\">\n",
       "  <thead>\n",
       "    <tr style=\"text-align: right;\">\n",
       "      <th></th>\n",
       "      <th>Manufactures_name</th>\n",
       "      <th>location</th>\n",
       "      <th>Capibality</th>\n",
       "      <th>Materials</th>\n",
       "    </tr>\n",
       "  </thead>\n",
       "  <tbody>\n",
       "    <tr>\n",
       "      <th>0</th>\n",
       "      <td>A-1 Precision, Inc.</td>\n",
       "      <td>8014 NE 19th Court, Vancouver, Washington, 98665, United States</td>\n",
       "      <td>Machining</td>\n",
       "      <td>Aluminum, Stainless Steel, Brass</td>\n",
       "    </tr>\n",
       "    <tr>\n",
       "      <th>1</th>\n",
       "      <td>Spargo Machine Products</td>\n",
       "      <td>6 Gear Drive, Terryville, Connecticut, 06786, United States</td>\n",
       "      <td>Machining</td>\n",
       "      <td>Aluminum, Stainless Steel</td>\n",
       "    </tr>\n",
       "    <tr>\n",
       "      <th>2</th>\n",
       "      <td>Keystone Machine, Inc.</td>\n",
       "      <td>115 Newark Street, Littlestown, Pennsylvania, 17340, United States</td>\n",
       "      <td>Machining</td>\n",
       "      <td>Aluminum, Stainless Steel, Brass</td>\n",
       "    </tr>\n",
       "    <tr>\n",
       "      <th>3</th>\n",
       "      <td>D &amp; D Precision Machine Co., Inc.</td>\n",
       "      <td>395 Plymouth Street, Middleboro, Massachusetts, 02346, United States</td>\n",
       "      <td>Machining</td>\n",
       "      <td></td>\n",
       "    </tr>\n",
       "    <tr>\n",
       "      <th>4</th>\n",
       "      <td>Hilltop Technology Laboratory</td>\n",
       "      <td>51 Parker, Irvine, California, 92618, United States</td>\n",
       "      <td>Machining</td>\n",
       "      <td>Aluminum</td>\n",
       "    </tr>\n",
       "    <tr>\n",
       "      <th>5</th>\n",
       "      <td>TR Manufacturing</td>\n",
       "      <td>1106 S. Cowen St, Garrett, Indiana, 46738, United States</td>\n",
       "      <td>3D Printing, Fabrication, Machining</td>\n",
       "      <td>Aluminum, Stainless Steel, Brass, Copper, Titanium</td>\n",
       "    </tr>\n",
       "    <tr>\n",
       "      <th>6</th>\n",
       "      <td>WH Bagshaw Co Inc</td>\n",
       "      <td>1 Pine St. EXT, New Hampshire, 03061, United States</td>\n",
       "      <td>Machining</td>\n",
       "      <td>Aluminum, Stainless Steel</td>\n",
       "    </tr>\n",
       "    <tr>\n",
       "      <th>7</th>\n",
       "      <td>NORTHROP SALES, INC</td>\n",
       "      <td>P.O. Box 2907, Ponte Vedra, Florida, 32004, United States</td>\n",
       "      <td>Fabrication, Machining, Sheet Metal</td>\n",
       "      <td>Aluminum, Stainless Steel, Brass</td>\n",
       "    </tr>\n",
       "    <tr>\n",
       "      <th>8</th>\n",
       "      <td>McKenzie CNC, Inc.</td>\n",
       "      <td>2254 NW Campus DR, Estacada, Oregon, 97023, United States</td>\n",
       "      <td>Machining</td>\n",
       "      <td>Aluminum, Stainless Steel</td>\n",
       "    </tr>\n",
       "    <tr>\n",
       "      <th>9</th>\n",
       "      <td>4th Axis Machine and Design, Inc.</td>\n",
       "      <td>6575 Labeaux Ave NE, Minnesota, 55301, United States</td>\n",
       "      <td>Machining</td>\n",
       "      <td>Aluminum</td>\n",
       "    </tr>\n",
       "    <tr>\n",
       "      <th>10</th>\n",
       "      <td>West Michigan Tube &amp; Wire Forming</td>\n",
       "      <td>2724 9th Street, P O Box 4589, Muskegon, Michigan, 49444, United States</td>\n",
       "      <td>Fabrication, Machining, Sheet Metal</td>\n",
       "      <td>Aluminum, Stainless Steel</td>\n",
       "    </tr>\n",
       "    <tr>\n",
       "      <th>11</th>\n",
       "      <td>Machine-Pro Technologies</td>\n",
       "      <td>1321 West Market Street, Celina, Ohio, 45822, United States</td>\n",
       "      <td>3D Printing, Fabrication, Machining, Sheet Metal</td>\n",
       "      <td>Aluminum, Stainless Steel, Brass, Wood</td>\n",
       "    </tr>\n",
       "    <tr>\n",
       "      <th>12</th>\n",
       "      <td>MACKENZIE MACHINE</td>\n",
       "      <td>171 Mattakeesett Street, Unit 2, Pembroke, Massachusetts, 02359, United States</td>\n",
       "      <td>Fabrication, Machining, Sheet Metal</td>\n",
       "      <td>Aluminum, Stainless Steel, Brass, Titanium</td>\n",
       "    </tr>\n",
       "    <tr>\n",
       "      <th>13</th>\n",
       "      <td>SK International</td>\n",
       "      <td>46918 Liberty Dr, Michigan, 48393, United States</td>\n",
       "      <td>3D Printing, Fabrication, Machining, Sheet Metal</td>\n",
       "      <td>Aluminum, Stainless Steel, Brass</td>\n",
       "    </tr>\n",
       "    <tr>\n",
       "      <th>14</th>\n",
       "      <td>ZELTWANGER CNC</td>\n",
       "      <td>4947 Fargo Street , South Carolina, 29418, United States</td>\n",
       "      <td>Machining</td>\n",
       "      <td>Aluminum, Stainless Steel, Brass, Copper, Titanium</td>\n",
       "    </tr>\n",
       "    <tr>\n",
       "      <th>15</th>\n",
       "      <td>T &amp; T  Machine Inc.</td>\n",
       "      <td>892 Callendar Blvd, Painesville, Ohio, 44077, United States</td>\n",
       "      <td>Machining</td>\n",
       "      <td>Aluminum, Stainless Steel, Brass</td>\n",
       "    </tr>\n",
       "    <tr>\n",
       "      <th>16</th>\n",
       "      <td></td>\n",
       "      <td></td>\n",
       "      <td></td>\n",
       "      <td></td>\n",
       "    </tr>\n",
       "    <tr>\n",
       "      <th>17</th>\n",
       "      <td>Marshall Metal Products Inc</td>\n",
       "      <td>13219 15 MILE ROAD, Michigan, 49068, United States</td>\n",
       "      <td>Fabrication, Machining, Sheet Metal</td>\n",
       "      <td>Aluminum, Stainless Steel</td>\n",
       "    </tr>\n",
       "    <tr>\n",
       "      <th>18</th>\n",
       "      <td>Patriot Manufacturing</td>\n",
       "      <td>45345 Five Mile Rd., Plymouth, Michigan, 48170, United States</td>\n",
       "      <td>Machining, Sheet Metal</td>\n",
       "      <td>Aluminum, Stainless Steel, Brass</td>\n",
       "    </tr>\n",
       "    <tr>\n",
       "      <th>19</th>\n",
       "      <td>Qingdao Jinghong Precision Co., Ltd. (USA)</td>\n",
       "      <td>Donghuangbu Xiazhuang, Chengyang District, Qingdao, 山东 (Shandong), 266107, China</td>\n",
       "      <td>Machining</td>\n",
       "      <td>Aluminum, Stainless Steel, Brass, Copper, Titanium</td>\n",
       "    </tr>\n",
       "    <tr>\n",
       "      <th>20</th>\n",
       "      <td>HA Industries</td>\n",
       "      <td>5510 Gatewood Dr, Michigan, 48310, United States</td>\n",
       "      <td>Fabrication, Machining</td>\n",
       "      <td>Aluminum, Stainless Steel</td>\n",
       "    </tr>\n",
       "    <tr>\n",
       "      <th>21</th>\n",
       "      <td>Next Level Mfg</td>\n",
       "      <td>6778 18th Avenue, Jenison, Michigan, 49428, United States</td>\n",
       "      <td>Machining</td>\n",
       "      <td>Aluminum, Stainless Steel</td>\n",
       "    </tr>\n",
       "    <tr>\n",
       "      <th>22</th>\n",
       "      <td>Starland Metals</td>\n",
       "      <td>59917 236th St., Gibbon, Minnesota, 55335, United States</td>\n",
       "      <td>Fabrication, Machining, Sheet Metal</td>\n",
       "      <td>Aluminum, Stainless Steel</td>\n",
       "    </tr>\n",
       "    <tr>\n",
       "      <th>23</th>\n",
       "      <td>Kooima Company</td>\n",
       "      <td>2638 310th St, PO Box 156, Rock Valley, Iowa, 51247, United States</td>\n",
       "      <td>Fabrication, Machining, Sheet Metal</td>\n",
       "      <td>Aluminum, Stainless Steel</td>\n",
       "    </tr>\n",
       "    <tr>\n",
       "      <th>24</th>\n",
       "      <td>Hick's Lake Grinding</td>\n",
       "      <td>14883 90th Avenue, Evart, Michigan, 49631, United States</td>\n",
       "      <td>Fabrication, Machining, Sheet Metal</td>\n",
       "      <td>Aluminum, Stainless Steel, Wood</td>\n",
       "    </tr>\n",
       "  </tbody>\n",
       "</table>\n",
       "</div>"
      ]
     },
     "execution_count": 344,
     "metadata": {},
     "output_type": "execute_result"
    }
   ],
   "execution_count": 344
  },
  {
   "metadata": {},
   "cell_type": "markdown",
   "source": "Data Cleaning",
   "id": "897f0fb96d650ba0"
  },
  {
   "metadata": {
    "ExecuteTime": {
     "end_time": "2024-07-06T05:12:06.779440Z",
     "start_time": "2024-07-06T05:12:06.773111Z"
    }
   },
   "cell_type": "code",
   "source": "df.drop(16,inplace=True)",
   "id": "bbb2e4db19507cc9",
   "outputs": [],
   "execution_count": 345
  },
  {
   "metadata": {
    "ExecuteTime": {
     "end_time": "2024-07-06T05:12:07.471647Z",
     "start_time": "2024-07-06T05:12:07.468717Z"
    }
   },
   "cell_type": "code",
   "source": "df.reset_index(drop=True, inplace=True)",
   "id": "fabeed0c1e49ee0a",
   "outputs": [],
   "execution_count": 346
  },
  {
   "metadata": {},
   "cell_type": "code",
   "source": "df['Materials'].iloc[3] = \"Aluminum\"",
   "id": "368c23b73f61fbff",
   "outputs": [],
   "execution_count": null
  },
  {
   "metadata": {
    "ExecuteTime": {
     "end_time": "2024-07-06T05:12:14.250727Z",
     "start_time": "2024-07-06T05:12:14.234555Z"
    }
   },
   "cell_type": "code",
   "source": "df.to_csv('Assignment1(CNC).csv')",
   "id": "9686bcf43d685271",
   "outputs": [],
   "execution_count": 348
  },
  {
   "metadata": {
    "ExecuteTime": {
     "end_time": "2024-07-06T05:12:16.961707Z",
     "start_time": "2024-07-06T05:12:16.955224Z"
    }
   },
   "cell_type": "code",
   "source": "df",
   "id": "91cf36a96067b1e",
   "outputs": [
    {
     "data": {
      "text/plain": [
       "                              Manufactures_name  \\\n",
       "0                          A-1 Precision, Inc.    \n",
       "1                      Spargo Machine Products    \n",
       "2                       Keystone Machine, Inc.    \n",
       "3            D & D Precision Machine Co., Inc.    \n",
       "4               Hilltop Technology Laboratory     \n",
       "5                             TR Manufacturing    \n",
       "6                            WH Bagshaw Co Inc    \n",
       "7                          NORTHROP SALES, INC    \n",
       "8                           McKenzie CNC, Inc.    \n",
       "9            4th Axis Machine and Design, Inc.    \n",
       "10           West Michigan Tube & Wire Forming    \n",
       "11                    Machine-Pro Technologies    \n",
       "12                           MACKENZIE MACHINE    \n",
       "13                            SK International    \n",
       "14                             ZELTWANGER CNC     \n",
       "15                         T & T  Machine Inc.    \n",
       "16                 Marshall Metal Products Inc    \n",
       "17                       Patriot Manufacturing    \n",
       "18  Qingdao Jinghong Precision Co., Ltd. (USA)    \n",
       "19                               HA Industries    \n",
       "20                              Next Level Mfg    \n",
       "21                             Starland Metals    \n",
       "22                              Kooima Company    \n",
       "23                        Hick's Lake Grinding    \n",
       "\n",
       "                                                                            location  \\\n",
       "0                    8014 NE 19th Court, Vancouver, Washington, 98665, United States   \n",
       "1                        6 Gear Drive, Terryville, Connecticut, 06786, United States   \n",
       "2                 115 Newark Street, Littlestown, Pennsylvania, 17340, United States   \n",
       "3               395 Plymouth Street, Middleboro, Massachusetts, 02346, United States   \n",
       "4                                51 Parker, Irvine, California, 92618, United States   \n",
       "5                           1106 S. Cowen St, Garrett, Indiana, 46738, United States   \n",
       "6                                1 Pine St. EXT, New Hampshire, 03061, United States   \n",
       "7                          P.O. Box 2907, Ponte Vedra, Florida, 32004, United States   \n",
       "8                          2254 NW Campus DR, Estacada, Oregon, 97023, United States   \n",
       "9                               6575 Labeaux Ave NE, Minnesota, 55301, United States   \n",
       "10           2724 9th Street, P O Box 4589, Muskegon, Michigan, 49444, United States   \n",
       "11                       1321 West Market Street, Celina, Ohio, 45822, United States   \n",
       "12    171 Mattakeesett Street, Unit 2, Pembroke, Massachusetts, 02359, United States   \n",
       "13                                  46918 Liberty Dr, Michigan, 48393, United States   \n",
       "14                          4947 Fargo Street , South Carolina, 29418, United States   \n",
       "15                       892 Callendar Blvd, Painesville, Ohio, 44077, United States   \n",
       "16                                13219 15 MILE ROAD, Michigan, 49068, United States   \n",
       "17                     45345 Five Mile Rd., Plymouth, Michigan, 48170, United States   \n",
       "18  Donghuangbu Xiazhuang, Chengyang District, Qingdao, 山东 (Shandong), 266107, China   \n",
       "19                                  5510 Gatewood Dr, Michigan, 48310, United States   \n",
       "20                         6778 18th Avenue, Jenison, Michigan, 49428, United States   \n",
       "21                          59917 236th St., Gibbon, Minnesota, 55335, United States   \n",
       "22                2638 310th St, PO Box 156, Rock Valley, Iowa, 51247, United States   \n",
       "23                          14883 90th Avenue, Evart, Michigan, 49631, United States   \n",
       "\n",
       "                                          Capibality  \\\n",
       "0                                          Machining   \n",
       "1                                          Machining   \n",
       "2                                          Machining   \n",
       "3                                          Machining   \n",
       "4                                          Machining   \n",
       "5                3D Printing, Fabrication, Machining   \n",
       "6                                          Machining   \n",
       "7                Fabrication, Machining, Sheet Metal   \n",
       "8                                          Machining   \n",
       "9                                          Machining   \n",
       "10               Fabrication, Machining, Sheet Metal   \n",
       "11  3D Printing, Fabrication, Machining, Sheet Metal   \n",
       "12               Fabrication, Machining, Sheet Metal   \n",
       "13  3D Printing, Fabrication, Machining, Sheet Metal   \n",
       "14                                         Machining   \n",
       "15                                         Machining   \n",
       "16               Fabrication, Machining, Sheet Metal   \n",
       "17                            Machining, Sheet Metal   \n",
       "18                                         Machining   \n",
       "19                            Fabrication, Machining   \n",
       "20                                         Machining   \n",
       "21               Fabrication, Machining, Sheet Metal   \n",
       "22               Fabrication, Machining, Sheet Metal   \n",
       "23               Fabrication, Machining, Sheet Metal   \n",
       "\n",
       "                                             Materials  \n",
       "0                     Aluminum, Stainless Steel, Brass  \n",
       "1                            Aluminum, Stainless Steel  \n",
       "2                     Aluminum, Stainless Steel, Brass  \n",
       "3                                             Aluminum  \n",
       "4                                             Aluminum  \n",
       "5   Aluminum, Stainless Steel, Brass, Copper, Titanium  \n",
       "6                            Aluminum, Stainless Steel  \n",
       "7                     Aluminum, Stainless Steel, Brass  \n",
       "8                            Aluminum, Stainless Steel  \n",
       "9                                             Aluminum  \n",
       "10                           Aluminum, Stainless Steel  \n",
       "11              Aluminum, Stainless Steel, Brass, Wood  \n",
       "12          Aluminum, Stainless Steel, Brass, Titanium  \n",
       "13                    Aluminum, Stainless Steel, Brass  \n",
       "14  Aluminum, Stainless Steel, Brass, Copper, Titanium  \n",
       "15                    Aluminum, Stainless Steel, Brass  \n",
       "16                           Aluminum, Stainless Steel  \n",
       "17                    Aluminum, Stainless Steel, Brass  \n",
       "18  Aluminum, Stainless Steel, Brass, Copper, Titanium  \n",
       "19                           Aluminum, Stainless Steel  \n",
       "20                           Aluminum, Stainless Steel  \n",
       "21                           Aluminum, Stainless Steel  \n",
       "22                           Aluminum, Stainless Steel  \n",
       "23                     Aluminum, Stainless Steel, Wood  "
      ],
      "text/html": [
       "<div>\n",
       "<style scoped>\n",
       "    .dataframe tbody tr th:only-of-type {\n",
       "        vertical-align: middle;\n",
       "    }\n",
       "\n",
       "    .dataframe tbody tr th {\n",
       "        vertical-align: top;\n",
       "    }\n",
       "\n",
       "    .dataframe thead th {\n",
       "        text-align: right;\n",
       "    }\n",
       "</style>\n",
       "<table border=\"1\" class=\"dataframe\">\n",
       "  <thead>\n",
       "    <tr style=\"text-align: right;\">\n",
       "      <th></th>\n",
       "      <th>Manufactures_name</th>\n",
       "      <th>location</th>\n",
       "      <th>Capibality</th>\n",
       "      <th>Materials</th>\n",
       "    </tr>\n",
       "  </thead>\n",
       "  <tbody>\n",
       "    <tr>\n",
       "      <th>0</th>\n",
       "      <td>A-1 Precision, Inc.</td>\n",
       "      <td>8014 NE 19th Court, Vancouver, Washington, 98665, United States</td>\n",
       "      <td>Machining</td>\n",
       "      <td>Aluminum, Stainless Steel, Brass</td>\n",
       "    </tr>\n",
       "    <tr>\n",
       "      <th>1</th>\n",
       "      <td>Spargo Machine Products</td>\n",
       "      <td>6 Gear Drive, Terryville, Connecticut, 06786, United States</td>\n",
       "      <td>Machining</td>\n",
       "      <td>Aluminum, Stainless Steel</td>\n",
       "    </tr>\n",
       "    <tr>\n",
       "      <th>2</th>\n",
       "      <td>Keystone Machine, Inc.</td>\n",
       "      <td>115 Newark Street, Littlestown, Pennsylvania, 17340, United States</td>\n",
       "      <td>Machining</td>\n",
       "      <td>Aluminum, Stainless Steel, Brass</td>\n",
       "    </tr>\n",
       "    <tr>\n",
       "      <th>3</th>\n",
       "      <td>D &amp; D Precision Machine Co., Inc.</td>\n",
       "      <td>395 Plymouth Street, Middleboro, Massachusetts, 02346, United States</td>\n",
       "      <td>Machining</td>\n",
       "      <td>Aluminum</td>\n",
       "    </tr>\n",
       "    <tr>\n",
       "      <th>4</th>\n",
       "      <td>Hilltop Technology Laboratory</td>\n",
       "      <td>51 Parker, Irvine, California, 92618, United States</td>\n",
       "      <td>Machining</td>\n",
       "      <td>Aluminum</td>\n",
       "    </tr>\n",
       "    <tr>\n",
       "      <th>5</th>\n",
       "      <td>TR Manufacturing</td>\n",
       "      <td>1106 S. Cowen St, Garrett, Indiana, 46738, United States</td>\n",
       "      <td>3D Printing, Fabrication, Machining</td>\n",
       "      <td>Aluminum, Stainless Steel, Brass, Copper, Titanium</td>\n",
       "    </tr>\n",
       "    <tr>\n",
       "      <th>6</th>\n",
       "      <td>WH Bagshaw Co Inc</td>\n",
       "      <td>1 Pine St. EXT, New Hampshire, 03061, United States</td>\n",
       "      <td>Machining</td>\n",
       "      <td>Aluminum, Stainless Steel</td>\n",
       "    </tr>\n",
       "    <tr>\n",
       "      <th>7</th>\n",
       "      <td>NORTHROP SALES, INC</td>\n",
       "      <td>P.O. Box 2907, Ponte Vedra, Florida, 32004, United States</td>\n",
       "      <td>Fabrication, Machining, Sheet Metal</td>\n",
       "      <td>Aluminum, Stainless Steel, Brass</td>\n",
       "    </tr>\n",
       "    <tr>\n",
       "      <th>8</th>\n",
       "      <td>McKenzie CNC, Inc.</td>\n",
       "      <td>2254 NW Campus DR, Estacada, Oregon, 97023, United States</td>\n",
       "      <td>Machining</td>\n",
       "      <td>Aluminum, Stainless Steel</td>\n",
       "    </tr>\n",
       "    <tr>\n",
       "      <th>9</th>\n",
       "      <td>4th Axis Machine and Design, Inc.</td>\n",
       "      <td>6575 Labeaux Ave NE, Minnesota, 55301, United States</td>\n",
       "      <td>Machining</td>\n",
       "      <td>Aluminum</td>\n",
       "    </tr>\n",
       "    <tr>\n",
       "      <th>10</th>\n",
       "      <td>West Michigan Tube &amp; Wire Forming</td>\n",
       "      <td>2724 9th Street, P O Box 4589, Muskegon, Michigan, 49444, United States</td>\n",
       "      <td>Fabrication, Machining, Sheet Metal</td>\n",
       "      <td>Aluminum, Stainless Steel</td>\n",
       "    </tr>\n",
       "    <tr>\n",
       "      <th>11</th>\n",
       "      <td>Machine-Pro Technologies</td>\n",
       "      <td>1321 West Market Street, Celina, Ohio, 45822, United States</td>\n",
       "      <td>3D Printing, Fabrication, Machining, Sheet Metal</td>\n",
       "      <td>Aluminum, Stainless Steel, Brass, Wood</td>\n",
       "    </tr>\n",
       "    <tr>\n",
       "      <th>12</th>\n",
       "      <td>MACKENZIE MACHINE</td>\n",
       "      <td>171 Mattakeesett Street, Unit 2, Pembroke, Massachusetts, 02359, United States</td>\n",
       "      <td>Fabrication, Machining, Sheet Metal</td>\n",
       "      <td>Aluminum, Stainless Steel, Brass, Titanium</td>\n",
       "    </tr>\n",
       "    <tr>\n",
       "      <th>13</th>\n",
       "      <td>SK International</td>\n",
       "      <td>46918 Liberty Dr, Michigan, 48393, United States</td>\n",
       "      <td>3D Printing, Fabrication, Machining, Sheet Metal</td>\n",
       "      <td>Aluminum, Stainless Steel, Brass</td>\n",
       "    </tr>\n",
       "    <tr>\n",
       "      <th>14</th>\n",
       "      <td>ZELTWANGER CNC</td>\n",
       "      <td>4947 Fargo Street , South Carolina, 29418, United States</td>\n",
       "      <td>Machining</td>\n",
       "      <td>Aluminum, Stainless Steel, Brass, Copper, Titanium</td>\n",
       "    </tr>\n",
       "    <tr>\n",
       "      <th>15</th>\n",
       "      <td>T &amp; T  Machine Inc.</td>\n",
       "      <td>892 Callendar Blvd, Painesville, Ohio, 44077, United States</td>\n",
       "      <td>Machining</td>\n",
       "      <td>Aluminum, Stainless Steel, Brass</td>\n",
       "    </tr>\n",
       "    <tr>\n",
       "      <th>16</th>\n",
       "      <td>Marshall Metal Products Inc</td>\n",
       "      <td>13219 15 MILE ROAD, Michigan, 49068, United States</td>\n",
       "      <td>Fabrication, Machining, Sheet Metal</td>\n",
       "      <td>Aluminum, Stainless Steel</td>\n",
       "    </tr>\n",
       "    <tr>\n",
       "      <th>17</th>\n",
       "      <td>Patriot Manufacturing</td>\n",
       "      <td>45345 Five Mile Rd., Plymouth, Michigan, 48170, United States</td>\n",
       "      <td>Machining, Sheet Metal</td>\n",
       "      <td>Aluminum, Stainless Steel, Brass</td>\n",
       "    </tr>\n",
       "    <tr>\n",
       "      <th>18</th>\n",
       "      <td>Qingdao Jinghong Precision Co., Ltd. (USA)</td>\n",
       "      <td>Donghuangbu Xiazhuang, Chengyang District, Qingdao, 山东 (Shandong), 266107, China</td>\n",
       "      <td>Machining</td>\n",
       "      <td>Aluminum, Stainless Steel, Brass, Copper, Titanium</td>\n",
       "    </tr>\n",
       "    <tr>\n",
       "      <th>19</th>\n",
       "      <td>HA Industries</td>\n",
       "      <td>5510 Gatewood Dr, Michigan, 48310, United States</td>\n",
       "      <td>Fabrication, Machining</td>\n",
       "      <td>Aluminum, Stainless Steel</td>\n",
       "    </tr>\n",
       "    <tr>\n",
       "      <th>20</th>\n",
       "      <td>Next Level Mfg</td>\n",
       "      <td>6778 18th Avenue, Jenison, Michigan, 49428, United States</td>\n",
       "      <td>Machining</td>\n",
       "      <td>Aluminum, Stainless Steel</td>\n",
       "    </tr>\n",
       "    <tr>\n",
       "      <th>21</th>\n",
       "      <td>Starland Metals</td>\n",
       "      <td>59917 236th St., Gibbon, Minnesota, 55335, United States</td>\n",
       "      <td>Fabrication, Machining, Sheet Metal</td>\n",
       "      <td>Aluminum, Stainless Steel</td>\n",
       "    </tr>\n",
       "    <tr>\n",
       "      <th>22</th>\n",
       "      <td>Kooima Company</td>\n",
       "      <td>2638 310th St, PO Box 156, Rock Valley, Iowa, 51247, United States</td>\n",
       "      <td>Fabrication, Machining, Sheet Metal</td>\n",
       "      <td>Aluminum, Stainless Steel</td>\n",
       "    </tr>\n",
       "    <tr>\n",
       "      <th>23</th>\n",
       "      <td>Hick's Lake Grinding</td>\n",
       "      <td>14883 90th Avenue, Evart, Michigan, 49631, United States</td>\n",
       "      <td>Fabrication, Machining, Sheet Metal</td>\n",
       "      <td>Aluminum, Stainless Steel, Wood</td>\n",
       "    </tr>\n",
       "  </tbody>\n",
       "</table>\n",
       "</div>"
      ]
     },
     "execution_count": 349,
     "metadata": {},
     "output_type": "execute_result"
    }
   ],
   "execution_count": 349
  },
  {
   "metadata": {},
   "cell_type": "markdown",
   "source": "Spliting the Capability and Material type in to single words where we can have mulitiple entries for manifucture in our dataset as i may help in further process using str.split and df.explode function str makes series type to series helping us to apply string operations on Series and split splits on , while explode make new row for each seperated values",
   "id": "213f21edd7c8a30c"
  },
  {
   "metadata": {
    "ExecuteTime": {
     "end_time": "2024-07-06T05:12:20.775491Z",
     "start_time": "2024-07-06T05:12:20.750760Z"
    }
   },
   "cell_type": "code",
   "source": [
    "df['Materials'] = df['Materials'].str.split(', ')\n",
    "df = df.explode('Materials')"
   ],
   "id": "fd60c85c00c0dc2f",
   "outputs": [],
   "execution_count": 350
  },
  {
   "metadata": {
    "ExecuteTime": {
     "end_time": "2024-07-06T05:12:22.387137Z",
     "start_time": "2024-07-06T05:12:22.383524Z"
    }
   },
   "cell_type": "code",
   "source": [
    "df['Capibality'] = df['Capibality'].str.split(', ')\n",
    "df = df.explode('Capibality')"
   ],
   "id": "dbe5043be372451",
   "outputs": [],
   "execution_count": 351
  },
  {
   "metadata": {
    "ExecuteTime": {
     "end_time": "2024-07-06T05:12:22.980945Z",
     "start_time": "2024-07-06T05:12:22.978129Z"
    }
   },
   "cell_type": "code",
   "source": "df.reset_index(inplace=True)",
   "id": "f3142dc4871c4b13",
   "outputs": [],
   "execution_count": 352
  },
  {
   "metadata": {},
   "cell_type": "markdown",
   "source": "Final df before moving to Cost Estimation alog",
   "id": "f45c96fa7add7c4e"
  },
  {
   "metadata": {
    "ExecuteTime": {
     "end_time": "2024-07-06T05:12:23.443247Z",
     "start_time": "2024-07-06T05:12:23.436969Z"
    }
   },
   "cell_type": "code",
   "source": "df",
   "id": "bed73039941ba2ee",
   "outputs": [
    {
     "data": {
      "text/plain": [
       "     index         Manufactures_name  \\\n",
       "0        0      A-1 Precision, Inc.    \n",
       "1        0      A-1 Precision, Inc.    \n",
       "2        0      A-1 Precision, Inc.    \n",
       "3        1  Spargo Machine Products    \n",
       "4        1  Spargo Machine Products    \n",
       "..     ...                       ...   \n",
       "132     23     Hick's Lake Grinding    \n",
       "133     23     Hick's Lake Grinding    \n",
       "134     23     Hick's Lake Grinding    \n",
       "135     23     Hick's Lake Grinding    \n",
       "136     23     Hick's Lake Grinding    \n",
       "\n",
       "                                                            location  \\\n",
       "0    8014 NE 19th Court, Vancouver, Washington, 98665, United States   \n",
       "1    8014 NE 19th Court, Vancouver, Washington, 98665, United States   \n",
       "2    8014 NE 19th Court, Vancouver, Washington, 98665, United States   \n",
       "3        6 Gear Drive, Terryville, Connecticut, 06786, United States   \n",
       "4        6 Gear Drive, Terryville, Connecticut, 06786, United States   \n",
       "..                                                               ...   \n",
       "132         14883 90th Avenue, Evart, Michigan, 49631, United States   \n",
       "133         14883 90th Avenue, Evart, Michigan, 49631, United States   \n",
       "134         14883 90th Avenue, Evart, Michigan, 49631, United States   \n",
       "135         14883 90th Avenue, Evart, Michigan, 49631, United States   \n",
       "136         14883 90th Avenue, Evart, Michigan, 49631, United States   \n",
       "\n",
       "      Capibality        Materials  \n",
       "0      Machining         Aluminum  \n",
       "1      Machining  Stainless Steel  \n",
       "2      Machining            Brass  \n",
       "3      Machining         Aluminum  \n",
       "4      Machining  Stainless Steel  \n",
       "..           ...              ...  \n",
       "132    Machining  Stainless Steel  \n",
       "133  Sheet Metal  Stainless Steel  \n",
       "134  Fabrication             Wood  \n",
       "135    Machining             Wood  \n",
       "136  Sheet Metal             Wood  \n",
       "\n",
       "[137 rows x 5 columns]"
      ],
      "text/html": [
       "<div>\n",
       "<style scoped>\n",
       "    .dataframe tbody tr th:only-of-type {\n",
       "        vertical-align: middle;\n",
       "    }\n",
       "\n",
       "    .dataframe tbody tr th {\n",
       "        vertical-align: top;\n",
       "    }\n",
       "\n",
       "    .dataframe thead th {\n",
       "        text-align: right;\n",
       "    }\n",
       "</style>\n",
       "<table border=\"1\" class=\"dataframe\">\n",
       "  <thead>\n",
       "    <tr style=\"text-align: right;\">\n",
       "      <th></th>\n",
       "      <th>index</th>\n",
       "      <th>Manufactures_name</th>\n",
       "      <th>location</th>\n",
       "      <th>Capibality</th>\n",
       "      <th>Materials</th>\n",
       "    </tr>\n",
       "  </thead>\n",
       "  <tbody>\n",
       "    <tr>\n",
       "      <th>0</th>\n",
       "      <td>0</td>\n",
       "      <td>A-1 Precision, Inc.</td>\n",
       "      <td>8014 NE 19th Court, Vancouver, Washington, 98665, United States</td>\n",
       "      <td>Machining</td>\n",
       "      <td>Aluminum</td>\n",
       "    </tr>\n",
       "    <tr>\n",
       "      <th>1</th>\n",
       "      <td>0</td>\n",
       "      <td>A-1 Precision, Inc.</td>\n",
       "      <td>8014 NE 19th Court, Vancouver, Washington, 98665, United States</td>\n",
       "      <td>Machining</td>\n",
       "      <td>Stainless Steel</td>\n",
       "    </tr>\n",
       "    <tr>\n",
       "      <th>2</th>\n",
       "      <td>0</td>\n",
       "      <td>A-1 Precision, Inc.</td>\n",
       "      <td>8014 NE 19th Court, Vancouver, Washington, 98665, United States</td>\n",
       "      <td>Machining</td>\n",
       "      <td>Brass</td>\n",
       "    </tr>\n",
       "    <tr>\n",
       "      <th>3</th>\n",
       "      <td>1</td>\n",
       "      <td>Spargo Machine Products</td>\n",
       "      <td>6 Gear Drive, Terryville, Connecticut, 06786, United States</td>\n",
       "      <td>Machining</td>\n",
       "      <td>Aluminum</td>\n",
       "    </tr>\n",
       "    <tr>\n",
       "      <th>4</th>\n",
       "      <td>1</td>\n",
       "      <td>Spargo Machine Products</td>\n",
       "      <td>6 Gear Drive, Terryville, Connecticut, 06786, United States</td>\n",
       "      <td>Machining</td>\n",
       "      <td>Stainless Steel</td>\n",
       "    </tr>\n",
       "    <tr>\n",
       "      <th>...</th>\n",
       "      <td>...</td>\n",
       "      <td>...</td>\n",
       "      <td>...</td>\n",
       "      <td>...</td>\n",
       "      <td>...</td>\n",
       "    </tr>\n",
       "    <tr>\n",
       "      <th>132</th>\n",
       "      <td>23</td>\n",
       "      <td>Hick's Lake Grinding</td>\n",
       "      <td>14883 90th Avenue, Evart, Michigan, 49631, United States</td>\n",
       "      <td>Machining</td>\n",
       "      <td>Stainless Steel</td>\n",
       "    </tr>\n",
       "    <tr>\n",
       "      <th>133</th>\n",
       "      <td>23</td>\n",
       "      <td>Hick's Lake Grinding</td>\n",
       "      <td>14883 90th Avenue, Evart, Michigan, 49631, United States</td>\n",
       "      <td>Sheet Metal</td>\n",
       "      <td>Stainless Steel</td>\n",
       "    </tr>\n",
       "    <tr>\n",
       "      <th>134</th>\n",
       "      <td>23</td>\n",
       "      <td>Hick's Lake Grinding</td>\n",
       "      <td>14883 90th Avenue, Evart, Michigan, 49631, United States</td>\n",
       "      <td>Fabrication</td>\n",
       "      <td>Wood</td>\n",
       "    </tr>\n",
       "    <tr>\n",
       "      <th>135</th>\n",
       "      <td>23</td>\n",
       "      <td>Hick's Lake Grinding</td>\n",
       "      <td>14883 90th Avenue, Evart, Michigan, 49631, United States</td>\n",
       "      <td>Machining</td>\n",
       "      <td>Wood</td>\n",
       "    </tr>\n",
       "    <tr>\n",
       "      <th>136</th>\n",
       "      <td>23</td>\n",
       "      <td>Hick's Lake Grinding</td>\n",
       "      <td>14883 90th Avenue, Evart, Michigan, 49631, United States</td>\n",
       "      <td>Sheet Metal</td>\n",
       "      <td>Wood</td>\n",
       "    </tr>\n",
       "  </tbody>\n",
       "</table>\n",
       "<p>137 rows × 5 columns</p>\n",
       "</div>"
      ]
     },
     "execution_count": 353,
     "metadata": {},
     "output_type": "execute_result"
    }
   ],
   "execution_count": 353
  },
  {
   "metadata": {},
   "cell_type": "markdown",
   "source": "# Cost Estimation Algorithms",
   "id": "108f766e6b678eb2"
  },
  {
   "metadata": {},
   "cell_type": "markdown",
   "source": [
    "Requirements:\n",
    "\n",
    "Material Type\n",
    "\n",
    "Part Size(Thin,Small,Medium,Lager)\n",
    "\n",
    "Complexity(simple,complex,Moderate)"
   ],
   "id": "5d71081d022b4e7"
  },
  {
   "metadata": {
    "ExecuteTime": {
     "end_time": "2024-07-06T05:12:25.715637Z",
     "start_time": "2024-07-06T05:12:25.713266Z"
    }
   },
   "cell_type": "code",
   "source": "import numpy as np",
   "id": "2546da65f6b3eca5",
   "outputs": [],
   "execution_count": 354
  },
  {
   "metadata": {},
   "cell_type": "markdown",
   "source": "Defining Type Of Material",
   "id": "a30066bf6be55171"
  },
  {
   "metadata": {
    "ExecuteTime": {
     "end_time": "2024-07-06T05:12:28.138913Z",
     "start_time": "2024-07-06T05:12:28.136538Z"
    }
   },
   "cell_type": "code",
   "source": [
    "#material type \n",
    "df['Material_Type'] = df['Materials']"
   ],
   "id": "cb6a838999906def",
   "outputs": [],
   "execution_count": 355
  },
  {
   "metadata": {},
   "cell_type": "markdown",
   "source": [
    "Defining Part Size\n",
    "using following code"
   ],
   "id": "f6ed4fd5e3bb26f5"
  },
  {
   "metadata": {
    "ExecuteTime": {
     "end_time": "2024-07-06T05:12:31.963839Z",
     "start_time": "2024-07-06T05:12:31.955653Z"
    }
   },
   "cell_type": "code",
   "source": [
    "#part Size\n",
    "df['Part_Size'] = np.where(df['Capibality']=='Machining',\"Small\",\n",
    "                           np.where(df['Capibality'] == 'Fabrication','Large',\n",
    "                                    np.where(df['Capibality'] == 'Sheet Metal',\"Thin\",\n",
    "                                             np.where(df['Capibality'] == '3D Printing',\"Medium\",'Not'))))"
   ],
   "id": "9260a613a6461208",
   "outputs": [],
   "execution_count": 356
  },
  {
   "metadata": {},
   "cell_type": "markdown",
   "source": [
    "Defining Complexity\n",
    "using following code"
   ],
   "id": "3fff4645a5b1cd97"
  },
  {
   "metadata": {
    "ExecuteTime": {
     "end_time": "2024-07-06T05:12:32.399084Z",
     "start_time": "2024-07-06T05:12:32.396727Z"
    }
   },
   "cell_type": "code",
   "source": [
    "# complexity\n",
    "df['Complexity'] = np.where(df['Capibality']=='Machining',\"Complex\",\n",
    "                           np.where(df['Capibality'] == 'Fabrication','Moderate',\n",
    "                                    np.where(df['Capibality'] == 'Sheet Metal',\"Simple\",\n",
    "                                             np.where(df['Capibality'] == '3D Printing',\"Moderate\",'Not'))))"
   ],
   "id": "16942280c5cab48",
   "outputs": [],
   "execution_count": 357
  },
  {
   "metadata": {},
   "cell_type": "markdown",
   "source": "suffling the values of Complexity and Part_size",
   "id": "6e045314b5f37cbd"
  },
  {
   "metadata": {
    "ExecuteTime": {
     "end_time": "2024-07-06T05:12:32.894740Z",
     "start_time": "2024-07-06T05:12:32.890245Z"
    }
   },
   "cell_type": "code",
   "source": [
    "df['Complexity'] = df['Complexity'].sample(frac=1).reset_index(drop=True)\n",
    "df['Part_Size'] = df['Part_Size'].sample(frac=1).reset_index(drop=True)"
   ],
   "id": "8eeab12a65144819",
   "outputs": [],
   "execution_count": 358
  },
  {
   "metadata": {
    "ExecuteTime": {
     "end_time": "2024-07-06T05:12:50.205449Z",
     "start_time": "2024-07-06T05:12:50.190719Z"
    }
   },
   "cell_type": "code",
   "source": "df.drop(columns=['Materials'],inplace=True)",
   "id": "61ae9cf650daced2",
   "outputs": [],
   "execution_count": 360
  },
  {
   "metadata": {},
   "cell_type": "markdown",
   "source": "## Researched Cost for required things",
   "id": "28937481539e55bc"
  },
  {
   "metadata": {},
   "cell_type": "markdown",
   "source": [
    "Aluminum: Approximately $1.50 - $3.00 per pound, depending on grade and form.\n",
    "Stainless Steel: Around $1.00 - $5.00 per pound, varying by grade (e.g., 304, 316).\n",
    "Brass: Roughly $3.00 - $6.00 per pound, depending on alloy composition.\n",
    "Titanium: Higher cost, generally ranging from $8.00 - $15.00 per pound or more, depending on grade and purity.\n",
    "Wood: Cost varies widely based on type and quality, ranging from a few dollars per board foot for common species to significantly more for exotic or specialty woods.\n",
    "Copper: About $3.00 - $5.00 per pound, depending on purity and market conditions.\n"
   ],
   "id": "6d4231aecfa7e8ab"
  },
  {
   "metadata": {},
   "cell_type": "markdown",
   "source": [
    "Simple CNC Machines:\n",
    "\n",
    "Cost Range: $10,000 - $50,000 USD\n",
    "Description: Includes basic CNC routers, small milling machines, and entry-level laser cutters. These machines are suitable for simpler operations like cutting and basic milling.\n",
    "\n",
    "Moderate CNC Machines:\n",
    "Cost Range: $50,000 - $200,000 USD\n",
    "Description: Includes mid-range milling machines, larger CNC routers, and multi-axis machining centers. These machines offer more capabilities and precision than simple machines, suitable for more complex parts and operations.\n",
    "\n",
    "Complex CNC Machines:\n",
    "\n",
    "Cost Range: $200,000 USD and above\n",
    "Description: Includes high-end machining centers, CNC turning centers with multiple axes, and advanced additive manufacturing systems (e.g., high-end 3D printers). These machines are capable of handling intricate designs, tight tolerances, and high-volume production."
   ],
   "id": "2ae6fcefd719d028"
  },
  {
   "metadata": {},
   "cell_type": "markdown",
   "source": [
    "Assumming \n",
    "\n",
    "small Part Size Cost:10000 - 20000 USD\n",
    "\n",
    "thin Part Size  Cost : 5000 - 10000 USD\n",
    "\n",
    "Medium Part Size Cost : 20000 - 50000 USD\n",
    "\n",
    "Large Part Size Cost : 50000 - 100000 USD"
   ],
   "id": "a13b7832749e1191"
  },
  {
   "metadata": {},
   "cell_type": "markdown",
   "source": "For Simplification Purpose we will us values in hunderds",
   "id": "486bcc7610058246"
  },
  {
   "metadata": {},
   "cell_type": "markdown",
   "source": "# Function to implement Cost estimation",
   "id": "262026dc434a7c38"
  },
  {
   "metadata": {
    "ExecuteTime": {
     "end_time": "2024-07-06T05:13:03.893980Z",
     "start_time": "2024-07-06T05:13:03.880060Z"
    }
   },
   "cell_type": "code",
   "source": [
    "def Cost_estimation(Material_type , Part_Size, Complexity):\n",
    "    # Taken a average cost of materials per pound\n",
    "    material_type_pricing = {\n",
    "        'aluminum': 1.5,\n",
    "        'stainless steel' : 2.5,\n",
    "        'brass' : 5,\n",
    "        'copper' : 4.5,\n",
    "        'titanium' : 12.5,\n",
    "        'wood': 2.5\n",
    "    }\n",
    "    # Time is Assumed\n",
    "    #this can be considered as production cost\n",
    "    machine_time = {\n",
    "        ('small', 'simple'): 2,\n",
    "        ('small', 'moderate'): 4,\n",
    "        ('small', 'complex'): 6,\n",
    "        ('medium', 'simple'): 4,\n",
    "        ('medium', 'moderate'): 6,\n",
    "        ('medium', 'complex'): 8,\n",
    "        ('large', 'simple'): 6,\n",
    "        ('large', 'moderate'): 8,\n",
    "        ('large', 'complex'): 10\n",
    "    }\n",
    "    # Setup Time is assumed too\n",
    "    setup_time = {\n",
    "        'simple': 1,   \n",
    "        'moderate': 2,\n",
    "        'complex': 3\n",
    "    }\n",
    "    if (Part_Size, Complexity) in machine_time:\n",
    "        estimated_time = machine_time[(Part_Size,Complexity)]\n",
    "    else:\n",
    "        estimated_time = 0\n",
    "    material_cost = material_type_pricing[Material_type]\n",
    "    setup_cost = setup_time[Complexity]\n",
    "    # now we have to keep in mind that different part size requires different amount of material so we will divide our cost estimation in three phase for material cost\n",
    "    if Part_Size == 'small': #assumming 50 pounds is required for Small Size\n",
    "        material_cost = 50 * material_type_pricing[Material_type]\n",
    "    elif Part_Size == 'medium': #assumming 100 pounds is required for medium Size\n",
    "        material_cost = 100 * material_type_pricing[Material_type]\n",
    "    elif Part_Size == 'large':#assumming 150 pounds is required for large Size\n",
    "        material_cost = 150 * material_type_pricing[Material_type]\n",
    "    # now as we are assuming machine time is production time we will set 100 as production cost per hour so total cost production cost will be  machine time * production cost per hour\n",
    "    production_cost = estimated_time * 100\n",
    "    # now we have to calculate setup cost we are assuming base setup cost as 50\n",
    "    setup_cost = setup_time[Complexity] * 50\n",
    "    # now we have to add additional processes cost\n",
    "    additional_cost = {\n",
    "        'finishing':30,\n",
    "        'heat treatment':20,\n",
    "        'packing':10,\n",
    "        'transport':20\n",
    "    }\n",
    "    total_additional_cost = 0\n",
    "    for key in additional_cost:\n",
    "        total_additional_cost += additional_cost[key]\n",
    "    # now we have to calculate the total cost \n",
    "    aprox_cost = material_cost + setup_cost + production_cost + total_additional_cost\n",
    "    print(f'Aproximation cost is {aprox_cost}')\n",
    "    # price range \n",
    "    twenty_percent = aprox_cost * 20 / 100\n",
    "    lower_range = aprox_cost - twenty_percent \n",
    "    upper_range = aprox_cost + twenty_percent\n",
    "    print(f'Price Range : {lower_range} - {upper_range}')\n",
    "    return aprox_cost"
   ],
   "id": "b293bf0a7b2024a6",
   "outputs": [],
   "execution_count": 361
  },
  {
   "metadata": {},
   "cell_type": "markdown",
   "source": "# Testing the Function ",
   "id": "59c4ec6d934c2dfe"
  },
  {
   "metadata": {
    "ExecuteTime": {
     "end_time": "2024-07-06T05:13:04.838738Z",
     "start_time": "2024-07-06T05:13:04.834309Z"
    }
   },
   "cell_type": "code",
   "source": "Cost_estimation('aluminum', 'medium', 'simple')",
   "id": "5630d50b547511a9",
   "outputs": [
    {
     "name": "stdout",
     "output_type": "stream",
     "text": [
      "Aproximation cost is 680.0\n",
      "Price Range : 544.0 - 816.0\n"
     ]
    },
    {
     "data": {
      "text/plain": [
       "680.0"
      ]
     },
     "execution_count": 362,
     "metadata": {},
     "output_type": "execute_result"
    }
   ],
   "execution_count": 362
  },
  {
   "metadata": {},
   "cell_type": "markdown",
   "source": "Converting every text to lower case to make data set reliable",
   "id": "e3d5b3e94cbcba41"
  },
  {
   "metadata": {
    "ExecuteTime": {
     "end_time": "2024-07-06T05:13:06.143430Z",
     "start_time": "2024-07-06T05:13:06.138654Z"
    }
   },
   "cell_type": "code",
   "source": "df = df.map(lambda x: x.lower() if isinstance(x, str) else x)\n",
   "id": "54d862abf53178e6",
   "outputs": [],
   "execution_count": 363
  },
  {
   "metadata": {},
   "cell_type": "markdown",
   "source": "Adding new Cost Range column to DataFrame using Our Cost Estimation Function ",
   "id": "5db5612de5eb156f"
  },
  {
   "metadata": {
    "ExecuteTime": {
     "end_time": "2024-07-06T05:13:08.190031Z",
     "start_time": "2024-07-06T05:13:08.172719Z"
    }
   },
   "cell_type": "code",
   "source": "df['Cost Range'] = df.apply(lambda x : Cost_estimation(x['Material_Type'], x['Part_Size'], x['Complexity']), axis=1)",
   "id": "321f7aa9a5a25146",
   "outputs": [
    {
     "name": "stdout",
     "output_type": "stream",
     "text": [
      "Aproximation cost is 1205.0\n",
      "Price Range : 964.0 - 1446.0\n",
      "Aproximation cost is 232.5\n",
      "Price Range : 186.0 - 279.0\n",
      "Aproximation cost is 135\n",
      "Price Range : 108.0 - 162.0\n",
      "Aproximation cost is 905.0\n",
      "Price Range : 724.0 - 1086.0\n",
      "Aproximation cost is 1605.0\n",
      "Price Range : 1284.0 - 1926.0\n",
      "Aproximation cost is 905.0\n",
      "Price Range : 724.0 - 1086.0\n",
      "Aproximation cost is 955.0\n",
      "Price Range : 764.0 - 1146.0\n",
      "Aproximation cost is 1480\n",
      "Price Range : 1184.0 - 1776.0\n",
      "Aproximation cost is 930.0\n",
      "Price Range : 744.0 - 1116.0\n",
      "Aproximation cost is 131.5\n",
      "Price Range : 105.2 - 157.8\n",
      "Aproximation cost is 405.0\n",
      "Price Range : 324.0 - 486.0\n",
      "Aproximation cost is 1205.0\n",
      "Price Range : 964.0 - 1446.0\n",
      "Aproximation cost is 1180.0\n",
      "Price Range : 944.0 - 1416.0\n",
      "Aproximation cost is 232.5\n",
      "Price Range : 186.0 - 279.0\n",
      "Aproximation cost is 705.0\n",
      "Price Range : 564.0 - 846.0\n",
      "Aproximation cost is 182.5\n",
      "Price Range : 146.0 - 219.0\n",
      "Aproximation cost is 235\n",
      "Price Range : 188.0 - 282.0\n",
      "Aproximation cost is 830\n",
      "Price Range : 664.0 - 996.0\n",
      "Aproximation cost is 830\n",
      "Price Range : 664.0 - 996.0\n",
      "Aproximation cost is 1055.0\n",
      "Price Range : 844.0 - 1266.0\n",
      "Aproximation cost is 1055.0\n",
      "Price Range : 844.0 - 1266.0\n",
      "Aproximation cost is 805.0\n",
      "Price Range : 644.0 - 966.0\n",
      "Aproximation cost is 1205.0\n",
      "Price Range : 964.0 - 1446.0\n",
      "Aproximation cost is 2030.0\n",
      "Price Range : 1624.0 - 2436.0\n",
      "Aproximation cost is 2855.0\n",
      "Price Range : 2284.0 - 3426.0\n",
      "Aproximation cost is 905.0\n",
      "Price Range : 724.0 - 1086.0\n",
      "Aproximation cost is 780.0\n",
      "Price Range : 624.0 - 936.0\n",
      "Aproximation cost is 1455.0\n",
      "Price Range : 1164.0 - 1746.0\n",
      "Aproximation cost is 905.0\n",
      "Price Range : 724.0 - 1086.0\n",
      "Aproximation cost is 905.0\n",
      "Price Range : 724.0 - 1086.0\n",
      "Aproximation cost is 232.5\n",
      "Price Range : 186.0 - 279.0\n",
      "Aproximation cost is 955.0\n",
      "Price Range : 764.0 - 1146.0\n",
      "Aproximation cost is 1605.0\n",
      "Price Range : 1284.0 - 1926.0\n",
      "Aproximation cost is 1080\n",
      "Price Range : 864.0 - 1296.0\n",
      "Aproximation cost is 185\n",
      "Price Range : 148.0 - 222.0\n",
      "Aproximation cost is 1080\n",
      "Price Range : 864.0 - 1296.0\n",
      "Aproximation cost is 1180.0\n",
      "Price Range : 944.0 - 1416.0\n",
      "Aproximation cost is 955.0\n",
      "Price Range : 764.0 - 1146.0\n",
      "Aproximation cost is 905.0\n",
      "Price Range : 724.0 - 1086.0\n",
      "Aproximation cost is 905.0\n",
      "Price Range : 724.0 - 1086.0\n",
      "Aproximation cost is 655.0\n",
      "Price Range : 524.0 - 786.0\n",
      "Aproximation cost is 905.0\n",
      "Price Range : 724.0 - 1086.0\n",
      "Aproximation cost is 705.0\n",
      "Price Range : 564.0 - 846.0\n",
      "Aproximation cost is 232.5\n",
      "Price Range : 186.0 - 279.0\n",
      "Aproximation cost is 1605.0\n",
      "Price Range : 1284.0 - 1926.0\n",
      "Aproximation cost is 405.0\n",
      "Price Range : 324.0 - 486.0\n",
      "Aproximation cost is 1455.0\n",
      "Price Range : 1164.0 - 1746.0\n",
      "Aproximation cost is 231.5\n",
      "Price Range : 185.2 - 277.8\n",
      "Aproximation cost is 930.0\n",
      "Price Range : 744.0 - 1116.0\n",
      "Aproximation cost is 705.0\n",
      "Price Range : 564.0 - 846.0\n",
      "Aproximation cost is 955.0\n",
      "Price Range : 764.0 - 1146.0\n",
      "Aproximation cost is 705.0\n",
      "Price Range : 564.0 - 846.0\n",
      "Aproximation cost is 182.5\n",
      "Price Range : 146.0 - 219.0\n",
      "Aproximation cost is 580\n",
      "Price Range : 464.0 - 696.0\n",
      "Aproximation cost is 1480\n",
      "Price Range : 1184.0 - 1776.0\n",
      "Aproximation cost is 1080\n",
      "Price Range : 864.0 - 1296.0\n",
      "Aproximation cost is 1980\n",
      "Price Range : 1584.0 - 2376.0\n",
      "Aproximation cost is 455.0\n",
      "Price Range : 364.0 - 546.0\n",
      "Aproximation cost is 455.0\n",
      "Price Range : 364.0 - 546.0\n",
      "Aproximation cost is 955.0\n",
      "Price Range : 764.0 - 1146.0\n",
      "Aproximation cost is 232.5\n",
      "Price Range : 186.0 - 279.0\n",
      "Aproximation cost is 655.0\n",
      "Price Range : 524.0 - 786.0\n",
      "Aproximation cost is 405.0\n",
      "Price Range : 324.0 - 486.0\n",
      "Aproximation cost is 231.5\n",
      "Price Range : 185.2 - 277.8\n",
      "Aproximation cost is 955.0\n",
      "Price Range : 764.0 - 1146.0\n",
      "Aproximation cost is 232.5\n",
      "Price Range : 186.0 - 279.0\n",
      "Aproximation cost is 1355.0\n",
      "Price Range : 1084.0 - 1626.0\n",
      "Aproximation cost is 1480\n",
      "Price Range : 1184.0 - 1776.0\n",
      "Aproximation cost is 235\n",
      "Price Range : 188.0 - 282.0\n",
      "Aproximation cost is 1080\n",
      "Price Range : 864.0 - 1296.0\n",
      "Aproximation cost is 192.5\n",
      "Price Range : 154.0 - 231.0\n",
      "Aproximation cost is 2280.0\n",
      "Price Range : 1824.0 - 2736.0\n",
      "Aproximation cost is 2855.0\n",
      "Price Range : 2284.0 - 3426.0\n",
      "Aproximation cost is 231.5\n",
      "Price Range : 185.2 - 277.8\n",
      "Aproximation cost is 680.0\n",
      "Price Range : 544.0 - 816.0\n",
      "Aproximation cost is 181.5\n",
      "Price Range : 145.2 - 217.8\n",
      "Aproximation cost is 1455.0\n",
      "Price Range : 1164.0 - 1746.0\n",
      "Aproximation cost is 455.0\n",
      "Price Range : 364.0 - 546.0\n",
      "Aproximation cost is 132.5\n",
      "Price Range : 106.0 - 159.0\n",
      "Aproximation cost is 955.0\n",
      "Price Range : 764.0 - 1146.0\n",
      "Aproximation cost is 1605.0\n",
      "Price Range : 1284.0 - 1926.0\n",
      "Aproximation cost is 1280\n",
      "Price Range : 1024.0 - 1536.0\n",
      "Aproximation cost is 135\n",
      "Price Range : 108.0 - 162.0\n",
      "Aproximation cost is 1080\n",
      "Price Range : 864.0 - 1296.0\n",
      "Aproximation cost is 185\n",
      "Price Range : 148.0 - 222.0\n",
      "Aproximation cost is 655.0\n",
      "Price Range : 524.0 - 786.0\n",
      "Aproximation cost is 232.5\n",
      "Price Range : 186.0 - 279.0\n",
      "Aproximation cost is 1980\n",
      "Price Range : 1584.0 - 2376.0\n",
      "Aproximation cost is 1055.0\n",
      "Price Range : 844.0 - 1266.0\n",
      "Aproximation cost is 1205.0\n",
      "Price Range : 964.0 - 1446.0\n",
      "Aproximation cost is 955.0\n",
      "Price Range : 764.0 - 1146.0\n",
      "Aproximation cost is 955.0\n",
      "Price Range : 764.0 - 1146.0\n",
      "Aproximation cost is 830\n",
      "Price Range : 664.0 - 996.0\n",
      "Aproximation cost is 655.0\n",
      "Price Range : 524.0 - 786.0\n",
      "Aproximation cost is 905.0\n",
      "Price Range : 724.0 - 1086.0\n",
      "Aproximation cost is 905.0\n",
      "Price Range : 724.0 - 1086.0\n",
      "Aproximation cost is 1105.0\n",
      "Price Range : 884.0 - 1326.0\n",
      "Aproximation cost is 955.0\n",
      "Price Range : 764.0 - 1146.0\n",
      "Aproximation cost is 955.0\n",
      "Price Range : 764.0 - 1146.0\n",
      "Aproximation cost is 680.0\n",
      "Price Range : 544.0 - 816.0\n",
      "Aproximation cost is 231.5\n",
      "Price Range : 185.2 - 277.8\n",
      "Aproximation cost is 705.0\n",
      "Price Range : 564.0 - 846.0\n",
      "Aproximation cost is 1355.0\n",
      "Price Range : 1084.0 - 1626.0\n",
      "Aproximation cost is 1080\n",
      "Price Range : 864.0 - 1296.0\n",
      "Aproximation cost is 235\n",
      "Price Range : 188.0 - 282.0\n",
      "Aproximation cost is 905.0\n",
      "Price Range : 724.0 - 1086.0\n",
      "Aproximation cost is 455.0\n",
      "Price Range : 364.0 - 546.0\n",
      "Aproximation cost is 830\n",
      "Price Range : 664.0 - 996.0\n",
      "Aproximation cost is 805.0\n",
      "Price Range : 644.0 - 966.0\n",
      "Aproximation cost is 1205.0\n",
      "Price Range : 964.0 - 1446.0\n",
      "Aproximation cost is 405.0\n",
      "Price Range : 324.0 - 486.0\n",
      "Aproximation cost is 1455.0\n",
      "Price Range : 1164.0 - 1746.0\n",
      "Aproximation cost is 1105.0\n",
      "Price Range : 884.0 - 1326.0\n",
      "Aproximation cost is 705.0\n",
      "Price Range : 564.0 - 846.0\n",
      "Aproximation cost is 1205.0\n",
      "Price Range : 964.0 - 1446.0\n",
      "Aproximation cost is 1105.0\n",
      "Price Range : 884.0 - 1326.0\n",
      "Aproximation cost is 905.0\n",
      "Price Range : 724.0 - 1086.0\n",
      "Aproximation cost is 930.0\n",
      "Price Range : 744.0 - 1116.0\n",
      "Aproximation cost is 955.0\n",
      "Price Range : 764.0 - 1146.0\n",
      "Aproximation cost is 455.0\n",
      "Price Range : 364.0 - 546.0\n",
      "Aproximation cost is 1605.0\n",
      "Price Range : 1284.0 - 1926.0\n",
      "Aproximation cost is 1105.0\n",
      "Price Range : 884.0 - 1326.0\n",
      "Aproximation cost is 905.0\n",
      "Price Range : 724.0 - 1086.0\n",
      "Aproximation cost is 655.0\n",
      "Price Range : 524.0 - 786.0\n",
      "Aproximation cost is 131.5\n",
      "Price Range : 105.2 - 157.8\n",
      "Aproximation cost is 1605.0\n",
      "Price Range : 1284.0 - 1926.0\n",
      "Aproximation cost is 955.0\n",
      "Price Range : 764.0 - 1146.0\n",
      "Aproximation cost is 1605.0\n",
      "Price Range : 1284.0 - 1926.0\n",
      "Aproximation cost is 930.0\n",
      "Price Range : 744.0 - 1116.0\n",
      "Aproximation cost is 181.5\n",
      "Price Range : 145.2 - 217.8\n",
      "Aproximation cost is 181.5\n",
      "Price Range : 145.2 - 217.8\n",
      "Aproximation cost is 132.5\n",
      "Price Range : 106.0 - 159.0\n",
      "Aproximation cost is 1355.0\n",
      "Price Range : 1084.0 - 1626.0\n",
      "Aproximation cost is 705.0\n",
      "Price Range : 564.0 - 846.0\n",
      "Aproximation cost is 1605.0\n",
      "Price Range : 1284.0 - 1926.0\n",
      "Aproximation cost is 1605.0\n",
      "Price Range : 1284.0 - 1926.0\n",
      "Aproximation cost is 705.0\n",
      "Price Range : 564.0 - 846.0\n"
     ]
    }
   ],
   "execution_count": 364
  },
  {
   "metadata": {},
   "cell_type": "markdown",
   "source": "Saving the data to csv ",
   "id": "43bda307e46ce083"
  },
  {
   "metadata": {
    "ExecuteTime": {
     "end_time": "2024-07-06T05:15:09.016906Z",
     "start_time": "2024-07-06T05:15:08.999153Z"
    }
   },
   "cell_type": "code",
   "source": "df.to_csv('data.csv')",
   "id": "750972da1e9449fa",
   "outputs": [],
   "execution_count": 375
  },
  {
   "metadata": {
    "ExecuteTime": {
     "end_time": "2024-07-06T06:28:50.452667Z",
     "start_time": "2024-07-06T06:28:50.418151Z"
    }
   },
   "cell_type": "code",
   "source": "df = pd.read_csv('data.csv')",
   "id": "f290f9ad9c7339f1",
   "outputs": [],
   "execution_count": 389
  },
  {
   "metadata": {
    "ExecuteTime": {
     "end_time": "2024-07-06T06:28:51.081519Z",
     "start_time": "2024-07-06T06:28:51.073217Z"
    }
   },
   "cell_type": "code",
   "source": "df",
   "id": "cc4dda38e3a6b283",
   "outputs": [
    {
     "data": {
      "text/plain": [
       "     Unnamed: 0  index         Manufactures_name  \\\n",
       "0             0      0      a-1 precision, inc.    \n",
       "1             1      0      a-1 precision, inc.    \n",
       "2             2      0      a-1 precision, inc.    \n",
       "3             3      1  spargo machine products    \n",
       "4             4      1  spargo machine products    \n",
       "..          ...    ...                       ...   \n",
       "132         132     23     hick's lake grinding    \n",
       "133         133     23     hick's lake grinding    \n",
       "134         134     23     hick's lake grinding    \n",
       "135         135     23     hick's lake grinding    \n",
       "136         136     23     hick's lake grinding    \n",
       "\n",
       "                                                            location  \\\n",
       "0    8014 ne 19th court, vancouver, washington, 98665, united states   \n",
       "1    8014 ne 19th court, vancouver, washington, 98665, united states   \n",
       "2    8014 ne 19th court, vancouver, washington, 98665, united states   \n",
       "3        6 gear drive, terryville, connecticut, 06786, united states   \n",
       "4        6 gear drive, terryville, connecticut, 06786, united states   \n",
       "..                                                               ...   \n",
       "132         14883 90th avenue, evart, michigan, 49631, united states   \n",
       "133         14883 90th avenue, evart, michigan, 49631, united states   \n",
       "134         14883 90th avenue, evart, michigan, 49631, united states   \n",
       "135         14883 90th avenue, evart, michigan, 49631, united states   \n",
       "136         14883 90th avenue, evart, michigan, 49631, united states   \n",
       "\n",
       "      Capibality    Material_Type Part_Size Complexity  Cost Range  \n",
       "0      machining         aluminum     large   moderate      1205.0  \n",
       "1      machining  stainless steel      thin    complex       232.5  \n",
       "2      machining            brass      thin     simple       135.0  \n",
       "3      machining         aluminum     small    complex       905.0  \n",
       "4      machining  stainless steel     large    complex      1605.0  \n",
       "..           ...              ...       ...        ...         ...  \n",
       "132    machining  stainless steel     large   moderate      1355.0  \n",
       "133  sheet metal  stainless steel     small   moderate       705.0  \n",
       "134  fabrication             wood     large    complex      1605.0  \n",
       "135    machining             wood     large    complex      1605.0  \n",
       "136  sheet metal             wood     small   moderate       705.0  \n",
       "\n",
       "[137 rows x 9 columns]"
      ],
      "text/html": [
       "<div>\n",
       "<style scoped>\n",
       "    .dataframe tbody tr th:only-of-type {\n",
       "        vertical-align: middle;\n",
       "    }\n",
       "\n",
       "    .dataframe tbody tr th {\n",
       "        vertical-align: top;\n",
       "    }\n",
       "\n",
       "    .dataframe thead th {\n",
       "        text-align: right;\n",
       "    }\n",
       "</style>\n",
       "<table border=\"1\" class=\"dataframe\">\n",
       "  <thead>\n",
       "    <tr style=\"text-align: right;\">\n",
       "      <th></th>\n",
       "      <th>Unnamed: 0</th>\n",
       "      <th>index</th>\n",
       "      <th>Manufactures_name</th>\n",
       "      <th>location</th>\n",
       "      <th>Capibality</th>\n",
       "      <th>Material_Type</th>\n",
       "      <th>Part_Size</th>\n",
       "      <th>Complexity</th>\n",
       "      <th>Cost Range</th>\n",
       "    </tr>\n",
       "  </thead>\n",
       "  <tbody>\n",
       "    <tr>\n",
       "      <th>0</th>\n",
       "      <td>0</td>\n",
       "      <td>0</td>\n",
       "      <td>a-1 precision, inc.</td>\n",
       "      <td>8014 ne 19th court, vancouver, washington, 98665, united states</td>\n",
       "      <td>machining</td>\n",
       "      <td>aluminum</td>\n",
       "      <td>large</td>\n",
       "      <td>moderate</td>\n",
       "      <td>1205.0</td>\n",
       "    </tr>\n",
       "    <tr>\n",
       "      <th>1</th>\n",
       "      <td>1</td>\n",
       "      <td>0</td>\n",
       "      <td>a-1 precision, inc.</td>\n",
       "      <td>8014 ne 19th court, vancouver, washington, 98665, united states</td>\n",
       "      <td>machining</td>\n",
       "      <td>stainless steel</td>\n",
       "      <td>thin</td>\n",
       "      <td>complex</td>\n",
       "      <td>232.5</td>\n",
       "    </tr>\n",
       "    <tr>\n",
       "      <th>2</th>\n",
       "      <td>2</td>\n",
       "      <td>0</td>\n",
       "      <td>a-1 precision, inc.</td>\n",
       "      <td>8014 ne 19th court, vancouver, washington, 98665, united states</td>\n",
       "      <td>machining</td>\n",
       "      <td>brass</td>\n",
       "      <td>thin</td>\n",
       "      <td>simple</td>\n",
       "      <td>135.0</td>\n",
       "    </tr>\n",
       "    <tr>\n",
       "      <th>3</th>\n",
       "      <td>3</td>\n",
       "      <td>1</td>\n",
       "      <td>spargo machine products</td>\n",
       "      <td>6 gear drive, terryville, connecticut, 06786, united states</td>\n",
       "      <td>machining</td>\n",
       "      <td>aluminum</td>\n",
       "      <td>small</td>\n",
       "      <td>complex</td>\n",
       "      <td>905.0</td>\n",
       "    </tr>\n",
       "    <tr>\n",
       "      <th>4</th>\n",
       "      <td>4</td>\n",
       "      <td>1</td>\n",
       "      <td>spargo machine products</td>\n",
       "      <td>6 gear drive, terryville, connecticut, 06786, united states</td>\n",
       "      <td>machining</td>\n",
       "      <td>stainless steel</td>\n",
       "      <td>large</td>\n",
       "      <td>complex</td>\n",
       "      <td>1605.0</td>\n",
       "    </tr>\n",
       "    <tr>\n",
       "      <th>...</th>\n",
       "      <td>...</td>\n",
       "      <td>...</td>\n",
       "      <td>...</td>\n",
       "      <td>...</td>\n",
       "      <td>...</td>\n",
       "      <td>...</td>\n",
       "      <td>...</td>\n",
       "      <td>...</td>\n",
       "      <td>...</td>\n",
       "    </tr>\n",
       "    <tr>\n",
       "      <th>132</th>\n",
       "      <td>132</td>\n",
       "      <td>23</td>\n",
       "      <td>hick's lake grinding</td>\n",
       "      <td>14883 90th avenue, evart, michigan, 49631, united states</td>\n",
       "      <td>machining</td>\n",
       "      <td>stainless steel</td>\n",
       "      <td>large</td>\n",
       "      <td>moderate</td>\n",
       "      <td>1355.0</td>\n",
       "    </tr>\n",
       "    <tr>\n",
       "      <th>133</th>\n",
       "      <td>133</td>\n",
       "      <td>23</td>\n",
       "      <td>hick's lake grinding</td>\n",
       "      <td>14883 90th avenue, evart, michigan, 49631, united states</td>\n",
       "      <td>sheet metal</td>\n",
       "      <td>stainless steel</td>\n",
       "      <td>small</td>\n",
       "      <td>moderate</td>\n",
       "      <td>705.0</td>\n",
       "    </tr>\n",
       "    <tr>\n",
       "      <th>134</th>\n",
       "      <td>134</td>\n",
       "      <td>23</td>\n",
       "      <td>hick's lake grinding</td>\n",
       "      <td>14883 90th avenue, evart, michigan, 49631, united states</td>\n",
       "      <td>fabrication</td>\n",
       "      <td>wood</td>\n",
       "      <td>large</td>\n",
       "      <td>complex</td>\n",
       "      <td>1605.0</td>\n",
       "    </tr>\n",
       "    <tr>\n",
       "      <th>135</th>\n",
       "      <td>135</td>\n",
       "      <td>23</td>\n",
       "      <td>hick's lake grinding</td>\n",
       "      <td>14883 90th avenue, evart, michigan, 49631, united states</td>\n",
       "      <td>machining</td>\n",
       "      <td>wood</td>\n",
       "      <td>large</td>\n",
       "      <td>complex</td>\n",
       "      <td>1605.0</td>\n",
       "    </tr>\n",
       "    <tr>\n",
       "      <th>136</th>\n",
       "      <td>136</td>\n",
       "      <td>23</td>\n",
       "      <td>hick's lake grinding</td>\n",
       "      <td>14883 90th avenue, evart, michigan, 49631, united states</td>\n",
       "      <td>sheet metal</td>\n",
       "      <td>wood</td>\n",
       "      <td>small</td>\n",
       "      <td>moderate</td>\n",
       "      <td>705.0</td>\n",
       "    </tr>\n",
       "  </tbody>\n",
       "</table>\n",
       "<p>137 rows × 9 columns</p>\n",
       "</div>"
      ]
     },
     "execution_count": 390,
     "metadata": {},
     "output_type": "execute_result"
    }
   ],
   "execution_count": 390
  },
  {
   "metadata": {},
   "cell_type": "markdown",
   "source": "Droping Unwanted Columns",
   "id": "13445276dea07302"
  },
  {
   "metadata": {
    "ExecuteTime": {
     "end_time": "2024-07-06T06:28:51.794714Z",
     "start_time": "2024-07-06T06:28:51.790381Z"
    }
   },
   "cell_type": "code",
   "source": "df.drop(columns=['index','Unnamed: 0','location'],inplace=True)",
   "id": "7df7aa90c7b3be0f",
   "outputs": [],
   "execution_count": 391
  },
  {
   "metadata": {
    "ExecuteTime": {
     "end_time": "2024-07-06T06:28:52.858729Z",
     "start_time": "2024-07-06T06:28:52.852668Z"
    }
   },
   "cell_type": "code",
   "source": "df",
   "id": "ac68d64442147408",
   "outputs": [
    {
     "data": {
      "text/plain": [
       "            Manufactures_name   Capibality    Material_Type Part_Size  \\\n",
       "0        a-1 precision, inc.     machining         aluminum     large   \n",
       "1        a-1 precision, inc.     machining  stainless steel      thin   \n",
       "2        a-1 precision, inc.     machining            brass      thin   \n",
       "3    spargo machine products     machining         aluminum     small   \n",
       "4    spargo machine products     machining  stainless steel     large   \n",
       "..                        ...          ...              ...       ...   \n",
       "132     hick's lake grinding     machining  stainless steel     large   \n",
       "133     hick's lake grinding   sheet metal  stainless steel     small   \n",
       "134     hick's lake grinding   fabrication             wood     large   \n",
       "135     hick's lake grinding     machining             wood     large   \n",
       "136     hick's lake grinding   sheet metal             wood     small   \n",
       "\n",
       "    Complexity  Cost Range  \n",
       "0     moderate      1205.0  \n",
       "1      complex       232.5  \n",
       "2       simple       135.0  \n",
       "3      complex       905.0  \n",
       "4      complex      1605.0  \n",
       "..         ...         ...  \n",
       "132   moderate      1355.0  \n",
       "133   moderate       705.0  \n",
       "134    complex      1605.0  \n",
       "135    complex      1605.0  \n",
       "136   moderate       705.0  \n",
       "\n",
       "[137 rows x 6 columns]"
      ],
      "text/html": [
       "<div>\n",
       "<style scoped>\n",
       "    .dataframe tbody tr th:only-of-type {\n",
       "        vertical-align: middle;\n",
       "    }\n",
       "\n",
       "    .dataframe tbody tr th {\n",
       "        vertical-align: top;\n",
       "    }\n",
       "\n",
       "    .dataframe thead th {\n",
       "        text-align: right;\n",
       "    }\n",
       "</style>\n",
       "<table border=\"1\" class=\"dataframe\">\n",
       "  <thead>\n",
       "    <tr style=\"text-align: right;\">\n",
       "      <th></th>\n",
       "      <th>Manufactures_name</th>\n",
       "      <th>Capibality</th>\n",
       "      <th>Material_Type</th>\n",
       "      <th>Part_Size</th>\n",
       "      <th>Complexity</th>\n",
       "      <th>Cost Range</th>\n",
       "    </tr>\n",
       "  </thead>\n",
       "  <tbody>\n",
       "    <tr>\n",
       "      <th>0</th>\n",
       "      <td>a-1 precision, inc.</td>\n",
       "      <td>machining</td>\n",
       "      <td>aluminum</td>\n",
       "      <td>large</td>\n",
       "      <td>moderate</td>\n",
       "      <td>1205.0</td>\n",
       "    </tr>\n",
       "    <tr>\n",
       "      <th>1</th>\n",
       "      <td>a-1 precision, inc.</td>\n",
       "      <td>machining</td>\n",
       "      <td>stainless steel</td>\n",
       "      <td>thin</td>\n",
       "      <td>complex</td>\n",
       "      <td>232.5</td>\n",
       "    </tr>\n",
       "    <tr>\n",
       "      <th>2</th>\n",
       "      <td>a-1 precision, inc.</td>\n",
       "      <td>machining</td>\n",
       "      <td>brass</td>\n",
       "      <td>thin</td>\n",
       "      <td>simple</td>\n",
       "      <td>135.0</td>\n",
       "    </tr>\n",
       "    <tr>\n",
       "      <th>3</th>\n",
       "      <td>spargo machine products</td>\n",
       "      <td>machining</td>\n",
       "      <td>aluminum</td>\n",
       "      <td>small</td>\n",
       "      <td>complex</td>\n",
       "      <td>905.0</td>\n",
       "    </tr>\n",
       "    <tr>\n",
       "      <th>4</th>\n",
       "      <td>spargo machine products</td>\n",
       "      <td>machining</td>\n",
       "      <td>stainless steel</td>\n",
       "      <td>large</td>\n",
       "      <td>complex</td>\n",
       "      <td>1605.0</td>\n",
       "    </tr>\n",
       "    <tr>\n",
       "      <th>...</th>\n",
       "      <td>...</td>\n",
       "      <td>...</td>\n",
       "      <td>...</td>\n",
       "      <td>...</td>\n",
       "      <td>...</td>\n",
       "      <td>...</td>\n",
       "    </tr>\n",
       "    <tr>\n",
       "      <th>132</th>\n",
       "      <td>hick's lake grinding</td>\n",
       "      <td>machining</td>\n",
       "      <td>stainless steel</td>\n",
       "      <td>large</td>\n",
       "      <td>moderate</td>\n",
       "      <td>1355.0</td>\n",
       "    </tr>\n",
       "    <tr>\n",
       "      <th>133</th>\n",
       "      <td>hick's lake grinding</td>\n",
       "      <td>sheet metal</td>\n",
       "      <td>stainless steel</td>\n",
       "      <td>small</td>\n",
       "      <td>moderate</td>\n",
       "      <td>705.0</td>\n",
       "    </tr>\n",
       "    <tr>\n",
       "      <th>134</th>\n",
       "      <td>hick's lake grinding</td>\n",
       "      <td>fabrication</td>\n",
       "      <td>wood</td>\n",
       "      <td>large</td>\n",
       "      <td>complex</td>\n",
       "      <td>1605.0</td>\n",
       "    </tr>\n",
       "    <tr>\n",
       "      <th>135</th>\n",
       "      <td>hick's lake grinding</td>\n",
       "      <td>machining</td>\n",
       "      <td>wood</td>\n",
       "      <td>large</td>\n",
       "      <td>complex</td>\n",
       "      <td>1605.0</td>\n",
       "    </tr>\n",
       "    <tr>\n",
       "      <th>136</th>\n",
       "      <td>hick's lake grinding</td>\n",
       "      <td>sheet metal</td>\n",
       "      <td>wood</td>\n",
       "      <td>small</td>\n",
       "      <td>moderate</td>\n",
       "      <td>705.0</td>\n",
       "    </tr>\n",
       "  </tbody>\n",
       "</table>\n",
       "<p>137 rows × 6 columns</p>\n",
       "</div>"
      ]
     },
     "execution_count": 392,
     "metadata": {},
     "output_type": "execute_result"
    }
   ],
   "execution_count": 392
  },
  {
   "metadata": {},
   "cell_type": "markdown",
   "source": "Defining Catogerical and numerical columns ",
   "id": "b6192ab8abb7db30"
  },
  {
   "metadata": {
    "ExecuteTime": {
     "end_time": "2024-07-06T08:07:58.531937Z",
     "start_time": "2024-07-06T08:07:58.529659Z"
    }
   },
   "cell_type": "code",
   "source": [
    "cat = ['Capibality', 'Part_Size', 'Complexity', 'Material_Type']\n",
    "num = ['Cost Range']"
   ],
   "id": "84d60a9a032ebf33",
   "outputs": [],
   "execution_count": 415
  },
  {
   "metadata": {},
   "cell_type": "markdown",
   "source": "Standardizing numeric columns and Encoding the catogerical columns",
   "id": "5884160b9594bfab"
  },
  {
   "metadata": {
    "ExecuteTime": {
     "end_time": "2024-07-06T08:07:59.049970Z",
     "start_time": "2024-07-06T08:07:59.043240Z"
    }
   },
   "cell_type": "code",
   "source": [
    "from sklearn.preprocessing import OneHotEncoder,StandardScaler\n",
    "ohe = OneHotEncoder()\n",
    "encoded_cat = ohe.fit_transform(df[cat]).toarray()\n",
    "scaler = StandardScaler()\n",
    "encoded_num = scaler.fit_transform(df[num])"
   ],
   "id": "302b5ae08433fcff",
   "outputs": [],
   "execution_count": 416
  },
  {
   "metadata": {},
   "cell_type": "markdown",
   "source": "Combining them in one single data frame",
   "id": "cbc69074a3d9ab31"
  },
  {
   "metadata": {
    "ExecuteTime": {
     "end_time": "2024-07-06T08:07:59.928329Z",
     "start_time": "2024-07-06T08:07:59.925694Z"
    }
   },
   "cell_type": "code",
   "source": "features = np.hstack((encoded_cat, encoded_num))\n",
   "id": "bd0140428fba0b48",
   "outputs": [],
   "execution_count": 417
  },
  {
   "metadata": {},
   "cell_type": "markdown",
   "source": "applying Cosine Similarity to match the similar Manufactures",
   "id": "650841aa6ece66bc"
  },
  {
   "metadata": {
    "ExecuteTime": {
     "end_time": "2024-07-06T08:08:00.572013Z",
     "start_time": "2024-07-06T08:08:00.565733Z"
    }
   },
   "cell_type": "code",
   "source": [
    "from sklearn.metrics.pairwise import cosine_similarity\n",
    "similarity = cosine_similarity(features)\n"
   ],
   "id": "b8a6cd33edc8499d",
   "outputs": [],
   "execution_count": 418
  },
  {
   "metadata": {},
   "cell_type": "markdown",
   "source": "",
   "id": "17e7135563cdd215"
  },
  {
   "metadata": {
    "ExecuteTime": {
     "end_time": "2024-07-06T08:08:01.318568Z",
     "start_time": "2024-07-06T08:08:01.314952Z"
    }
   },
   "cell_type": "code",
   "source": "similarity",
   "id": "d0820cec333c5511",
   "outputs": [
    {
     "data": {
      "text/plain": [
       "array([[ 1.        ,  0.05294198,  0.02922632, ...,  0.35917664,\n",
       "         0.55750408,  0.18736425],\n",
       "       [ 0.05294198,  1.        ,  0.65105234, ..., -0.11842758,\n",
       "         0.0577132 ,  0.08910139],\n",
       "       [ 0.02922632,  0.65105234,  1.        , ..., -0.32439547,\n",
       "        -0.15555575,  0.09812354],\n",
       "       ...,\n",
       "       [ 0.35917664, -0.11842758, -0.32439547, ...,  1.        ,\n",
       "         0.82854599,  0.10900284],\n",
       "       [ 0.55750408,  0.0577132 , -0.15555575, ...,  0.82854599,\n",
       "         1.        ,  0.10900284],\n",
       "       [ 0.18736425,  0.08910139,  0.09812354, ...,  0.10900284,\n",
       "         0.10900284,  1.        ]])"
      ]
     },
     "execution_count": 419,
     "metadata": {},
     "output_type": "execute_result"
    }
   ],
   "execution_count": 419
  },
  {
   "metadata": {},
   "cell_type": "markdown",
   "source": "Defining Function For calculating Similar Manufacture based on cost material size complexity and capibility",
   "id": "df5106d3d97dfd71"
  },
  {
   "metadata": {
    "ExecuteTime": {
     "end_time": "2024-07-06T08:08:58.695854Z",
     "start_time": "2024-07-06T08:08:58.689731Z"
    }
   },
   "cell_type": "code",
   "source": [
    "# Function to find similar manufacturers\n",
    "def find_similar(cost, material, size, complexity, capability):\n",
    "    # Create a DataFrame for the input\n",
    "    input_data = pd.DataFrame({\n",
    "        'Cost Range': [cost],\n",
    "        'Material_Type': [material],\n",
    "        'Part_Size': [size],\n",
    "        'Complexity': [complexity],\n",
    "        'Capibality': [capability]\n",
    "    })\n",
    "    \n",
    "    # Define the order of features\n",
    "    input_cat = ['Capibality', 'Part_Size', 'Complexity', 'Material_Type']\n",
    "    input_num = ['Cost Range']\n",
    "    \n",
    "    # Encode and scale the input data\n",
    "    encoded_input_cat = ohe.transform(input_data[input_cat]).toarray()\n",
    "    scaled_input_num = scaler.transform(input_data[input_num])\n",
    "    input_feature = np.hstack((encoded_input_cat, scaled_input_num))\n",
    "    \n",
    "    # Compute cosine similarity\n",
    "    input_similarity = cosine_similarity(input_feature, features).flatten()\n",
    "    \n",
    "    # Find top 3 similar manufacturers\n",
    "    top_3_indices = np.argsort(input_similarity)[-3:][::-1]\n",
    "    \n",
    "    similar_manufacturers = df['Manufactures_name'].iloc[top_3_indices].tolist()\n",
    "    return similar_manufacturers\n"
   ],
   "id": "e9b3b57e3d992164",
   "outputs": [],
   "execution_count": 422
  },
  {
   "metadata": {},
   "cell_type": "markdown",
   "source": "Calling Manufacturing function",
   "id": "620942843558f80"
  },
  {
   "metadata": {
    "ExecuteTime": {
     "end_time": "2024-07-06T08:09:00.354021Z",
     "start_time": "2024-07-06T08:09:00.322797Z"
    }
   },
   "cell_type": "code",
   "source": "similar = find_similar(1205.0,\"aluminum\",'small','simple','machining')",
   "id": "935df11a53313697",
   "outputs": [],
   "execution_count": 423
  },
  {
   "metadata": {},
   "cell_type": "markdown",
   "source": "Similar Manufacturers",
   "id": "35c79d295d06a1eb"
  },
  {
   "metadata": {
    "ExecuteTime": {
     "end_time": "2024-07-06T08:09:15.429764Z",
     "start_time": "2024-07-06T08:09:15.425023Z"
    }
   },
   "cell_type": "code",
   "source": "similar",
   "id": "4eacb4c726ae1c4",
   "outputs": [
    {
     "data": {
      "text/plain": [
       "['mackenzie machine\\xa0',\n",
       " 't & t  machine inc.\\xa0',\n",
       " '4th axis machine and design, inc.\\xa0']"
      ]
     },
     "execution_count": 424,
     "metadata": {},
     "output_type": "execute_result"
    }
   ],
   "execution_count": 424
  }
 ],
 "metadata": {
  "kernelspec": {
   "display_name": "Python 3",
   "language": "python",
   "name": "python3"
  },
  "language_info": {
   "codemirror_mode": {
    "name": "ipython",
    "version": 2
   },
   "file_extension": ".py",
   "mimetype": "text/x-python",
   "name": "python",
   "nbconvert_exporter": "python",
   "pygments_lexer": "ipython2",
   "version": "2.7.6"
  }
 },
 "nbformat": 4,
 "nbformat_minor": 5
}
